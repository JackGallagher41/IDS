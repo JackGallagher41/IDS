{
  "nbformat": 4,
  "nbformat_minor": 0,
  "metadata": {
    "colab": {
      "provenance": [],
      "authorship_tag": "ABX9TyO4KNWeprS0CuQ6GD9qyJli",
      "include_colab_link": true
    },
    "kernelspec": {
      "name": "ir",
      "display_name": "R"
    },
    "language_info": {
      "name": "R"
    }
  },
  "cells": [
    {
      "cell_type": "markdown",
      "metadata": {
        "id": "view-in-github",
        "colab_type": "text"
      },
      "source": [
        "<a href=\"https://colab.research.google.com/github/JackGallagher41/IDS/blob/main/project4/problem2_R_ipynp.ipynb\" target=\"_parent\"><img src=\"https://colab.research.google.com/assets/colab-badge.svg\" alt=\"Open In Colab\"/></a>"
      ]
    },
    {
      "cell_type": "markdown",
      "source": [
        "## **Jack Gallagher**"
      ],
      "metadata": {
        "id": "vTFhfCYp-pet"
      }
    },
    {
      "cell_type": "markdown",
      "source": [
        "### **Problem 2 R**"
      ],
      "metadata": {
        "id": "HXdQY9Ab-q2a"
      }
    },
    {
      "cell_type": "markdown",
      "source": [
        "November 3, 2023"
      ],
      "metadata": {
        "id": "RDfrTIC3-t1I"
      }
    },
    {
      "cell_type": "markdown",
      "source": [
        "## **1. Use the following nutrition dataset: https://github.com/bforoura/IDS/blob/main/HW4/nutrition_subset.csv Links to an external site.**"
      ],
      "metadata": {
        "id": "z12NQVeJ_i1y"
      }
    },
    {
      "cell_type": "code",
      "source": [
        "#Reads in the data file\n",
        "library(readr)\n",
        "nutritionSubsetDF <- read_csv(\"https://raw.githubusercontent.com/bforoura/IDS/main/HW4/nutrition_subset.csv\",show_col_types = FALSE)\n",
        "\n",
        "nutritionSubsetDF"
      ],
      "metadata": {
        "colab": {
          "base_uri": "https://localhost:8080/",
          "height": 1000
        },
        "id": "MkgV9qBOL2-w",
        "outputId": "8c81c330-b01f-41d3-e01c-3d01752a84e0"
      },
      "execution_count": null,
      "outputs": [
        {
          "output_type": "display_data",
          "data": {
            "text/html": [
              "<table class=\"dataframe\">\n",
              "<caption>A spec_tbl_df: 961 × 4</caption>\n",
              "<thead>\n",
              "\t<tr><th scope=col>food item</th><th scope=col>weight_in_grams</th><th scope=col>saturated_fat</th><th scope=col>cholesterol</th></tr>\n",
              "\t<tr><th scope=col>&lt;chr&gt;</th><th scope=col>&lt;dbl&gt;</th><th scope=col>&lt;dbl&gt;</th><th scope=col>&lt;dbl&gt;</th></tr>\n",
              "</thead>\n",
              "<tbody>\n",
              "\t<tr><td>GELATIN; DRY                  1 ENVELP</td><td>  7.00</td><td> 0.0</td><td>  0</td></tr>\n",
              "\t<tr><td>SEAWEED; SPIRULINA; DRIED     1 OZ    </td><td> 28.35</td><td> 0.8</td><td>  0</td></tr>\n",
              "\t<tr><td>YEAST; BAKERS; DRY; ACTIVE    1 PKG   </td><td>  7.00</td><td> 0.0</td><td>  0</td></tr>\n",
              "\t<tr><td>PARMESAN CHEESE; GRATED       1 OZ    </td><td> 28.35</td><td> 5.4</td><td> 22</td></tr>\n",
              "\t<tr><td>PARMESAN CHEESE; GRATED       1 CUP   </td><td>100.00</td><td>19.1</td><td> 79</td></tr>\n",
              "\t<tr><td>PARMESAN CHEESE; GRATED       1 TBSP  </td><td>  5.00</td><td> 1.0</td><td>  4</td></tr>\n",
              "\t<tr><td>YEAST; BREWERS; DRY           1 TBSP  </td><td>  8.00</td><td> 0.0</td><td>  0</td></tr>\n",
              "\t<tr><td>LAMB;CHOPS;ARM;BRAISED;LEAN   1.7 OZ  </td><td> 48.00</td><td> 2.9</td><td> 59</td></tr>\n",
              "\t<tr><td>TUNA; CANND; DRND;WATR; WHITE 3 OZ    </td><td> 85.00</td><td> 0.3</td><td> 48</td></tr>\n",
              "\t<tr><td>NONFAT DRY MILK; INSTANTIZED  1 CUP   </td><td> 68.00</td><td> 0.3</td><td> 12</td></tr>\n",
              "\t<tr><td>NONFAT DRY MILK; INSTANTIZED  1 ENVLPE</td><td> 91.00</td><td> 0.4</td><td> 17</td></tr>\n",
              "\t<tr><td>BUTTERMILK; DRIED             1 CUP   </td><td>120.00</td><td> 4.3</td><td> 83</td></tr>\n",
              "\t<tr><td>BEEF; DRIED; CHIPPED          2.5 OZ  </td><td> 72.00</td><td> 1.8</td><td> 46</td></tr>\n",
              "\t<tr><td>PORK SHOULDER; BRAISD; LEAN   2.4 OZ  </td><td> 67.00</td><td> 2.8</td><td> 76</td></tr>\n",
              "\t<tr><td>BEEF; CKD;BTTM ROUND;LEAN ONLY2.8 OZ  </td><td> 78.00</td><td> 2.7</td><td> 75</td></tr>\n",
              "\t<tr><td>PORK CHOP; LOIN; BROIL; LEAN  2.5 OZ  </td><td> 72.00</td><td> 2.6</td><td> 71</td></tr>\n",
              "\t<tr><td>LAMB;CHOPS;ARM;BRAISED;LEAN+FT2.2 OZ  </td><td> 63.00</td><td> 6.9</td><td> 77</td></tr>\n",
              "\t<tr><td>CHICKEN; FRIED; FLOUR; BREAST 3.5 OZ  </td><td> 98.00</td><td> 2.4</td><td> 87</td></tr>\n",
              "\t<tr><td>PORK; CURED; BACON; REGUL;CKED3 SLICE </td><td> 19.00</td><td> 3.3</td><td> 16</td></tr>\n",
              "\t<tr><td>CHICKEN; ROASTED; BREAST      3.0 OZ  </td><td> 86.00</td><td> 0.9</td><td> 73</td></tr>\n",
              "\t<tr><td>PEANUT BUTTER                 1 TBSP  </td><td> 16.00</td><td> 1.4</td><td>  0</td></tr>\n",
              "\t<tr><td>BEEF; CKD;CHUCK BLADE;LEANONLY2.2 OZ  </td><td> 62.00</td><td> 3.9</td><td> 66</td></tr>\n",
              "\t<tr><td>BEEF STEAK;SIRLOIN;BROIL;LEAN 2.5 OZ  </td><td> 72.00</td><td> 2.6</td><td> 64</td></tr>\n",
              "\t<tr><td>LAMB;CHOPS;LOIN;BROIL;LEAN    2.3 OZ  </td><td> 64.00</td><td> 2.6</td><td> 60</td></tr>\n",
              "\t<tr><td>BEEF; CKD;BTTM ROUND;LEAN+ FAT3 OZ    </td><td> 85.00</td><td> 4.8</td><td> 81</td></tr>\n",
              "\t<tr><td>TURKEY; ROASTED; LIGHT + DARK 3 PIECES</td><td> 85.00</td><td> 1.4</td><td> 65</td></tr>\n",
              "\t<tr><td>TURKEY; ROASTED; LIGHT MEAT   2 PIECES</td><td> 85.00</td><td> 0.9</td><td> 59</td></tr>\n",
              "\t<tr><td>BEEF ROAST; EYE O RND; LEAN   2.6 OZ  </td><td> 75.00</td><td> 1.9</td><td> 52</td></tr>\n",
              "\t<tr><td>TURKEY; ROASTED; LIGHT + DARK 1 CUP   </td><td>140.00</td><td> 2.3</td><td>106</td></tr>\n",
              "\t<tr><td>PORK CHOP; LOIN;PANFRY; LEAN  2.4 OZ  </td><td> 67.00</td><td> 3.7</td><td> 72</td></tr>\n",
              "\t<tr><td>⋮</td><td>⋮</td><td>⋮</td><td>⋮</td></tr>\n",
              "\t<tr><td>TABLE SYRUP (CORN AND MAPLE)  2 TBSP  </td><td> 42.0</td><td>0.0</td><td> 0</td></tr>\n",
              "\t<tr><td>JELLIES                       1 PKT   </td><td> 14.0</td><td>0.0</td><td> 0</td></tr>\n",
              "\t<tr><td>GIN;RUM;VODKA;WHISKY 90-PROOF 1.5 F OZ</td><td> 42.0</td><td>0.0</td><td> 0</td></tr>\n",
              "\t<tr><td>GIN;RUM;VODKA;WHISKY 86-PROOF 1.5 F OZ</td><td> 42.0</td><td>0.0</td><td> 0</td></tr>\n",
              "\t<tr><td>IMITATN WHIPD TOPING;PWDRD;PRP1 TBSP  </td><td>  4.0</td><td>0.4</td><td> 0</td></tr>\n",
              "\t<tr><td>IMITATN WHIPD TOPING;PRESSRZD 1 TBSP  </td><td>  4.0</td><td>0.8</td><td> 0</td></tr>\n",
              "\t<tr><td>MAYONNAISE; IMITATION         1 TBSP  </td><td> 15.0</td><td>0.5</td><td> 4</td></tr>\n",
              "\t<tr><td>GIN;RUM;VODKA;WHISKY 80-PROOF 1.5 F OZ</td><td> 42.0</td><td>0.0</td><td> 0</td></tr>\n",
              "\t<tr><td>SOUR CREAM                    1 TBSP  </td><td> 12.0</td><td>1.6</td><td> 5</td></tr>\n",
              "\t<tr><td>LIGHT; COFFEE OR TABLE CREAM  1 TBSP  </td><td> 15.0</td><td>1.8</td><td>10</td></tr>\n",
              "\t<tr><td>BAKING POWDER;SAS;CAPO4+CASO4 1 TSP   </td><td>  2.9</td><td>0.0</td><td> 0</td></tr>\n",
              "\t<tr><td>IMITATN SOUR DRESSING         1 TBSP  </td><td> 12.0</td><td>1.6</td><td> 1</td></tr>\n",
              "\t<tr><td>BAKING POWDER;SAS; CA PO4     1 TSP   </td><td>  3.0</td><td>0.0</td><td> 0</td></tr>\n",
              "\t<tr><td>FRENCH SALAD DRESSING; LOCALOR1 TBSP  </td><td> 16.0</td><td>0.2</td><td> 0</td></tr>\n",
              "\t<tr><td>HALF AND HALF; CREAM          1 TBSP  </td><td> 15.0</td><td>1.1</td><td> 6</td></tr>\n",
              "\t<tr><td>IMITATION CREAMERS; LIQUID FRZ1 TBSP  </td><td> 15.0</td><td>1.4</td><td> 0</td></tr>\n",
              "\t<tr><td>BAKING POWDER; STRGHT PHOSPHAT1 TSP   </td><td>  3.8</td><td>0.0</td><td> 0</td></tr>\n",
              "\t<tr><td>BAKING POWDER; LOW SODIUM     1 TSP   </td><td>  4.3</td><td>0.0</td><td> 0</td></tr>\n",
              "\t<tr><td>POPSICLE                      1 POPCLE</td><td> 95.0</td><td>0.0</td><td> 0</td></tr>\n",
              "\t<tr><td>PLUMS; RAW; 1-1/2-IN DIAM     1 PLUM  </td><td> 28.0</td><td>0.0</td><td> 0</td></tr>\n",
              "\t<tr><td>LIMEADE;CONCEN;FROZEN;DILUTED 6 FL OZ </td><td>185.0</td><td>0.0</td><td> 0</td></tr>\n",
              "\t<tr><td>ITALIAN SALAD DRESSING;LOCALOR1 TBSP  </td><td> 15.0</td><td>0.0</td><td> 0</td></tr>\n",
              "\t<tr><td>LEMON JUICE; CANNED           1 TBSP  </td><td> 15.0</td><td>0.0</td><td> 0</td></tr>\n",
              "\t<tr><td>TEA;INSTANT;PREPARD;SWEETENED 8 FL OZ </td><td>262.0</td><td>0.0</td><td> 0</td></tr>\n",
              "\t<tr><td>CLUB SODA                     12 FL OZ</td><td>355.0</td><td>0.0</td><td> 0</td></tr>\n",
              "\t<tr><td>COFFEE; BREWED                6 FL OZ </td><td>180.0</td><td>0.0</td><td> 0</td></tr>\n",
              "\t<tr><td>TEA; BREWED                   8 FL OZ </td><td>240.0</td><td>0.0</td><td> 0</td></tr>\n",
              "\t<tr><td>TEA; INSTANT;PREPRD;UNSWEETEND8 FL OZ </td><td>241.0</td><td>0.0</td><td> 0</td></tr>\n",
              "\t<tr><td>LETTUCE; BUTTERHEAD; RAW;LEAVE1 LEAF  </td><td> 15.0</td><td>0.0</td><td> 0</td></tr>\n",
              "\t<tr><td>SALT                          1 TSP   </td><td>  5.5</td><td>0.0</td><td> 0</td></tr>\n",
              "</tbody>\n",
              "</table>\n"
            ],
            "text/markdown": "\nA spec_tbl_df: 961 × 4\n\n| food item &lt;chr&gt; | weight_in_grams &lt;dbl&gt; | saturated_fat &lt;dbl&gt; | cholesterol &lt;dbl&gt; |\n|---|---|---|---|\n| GELATIN; DRY                  1 ENVELP |   7.00 |  0.0 |   0 |\n| SEAWEED; SPIRULINA; DRIED     1 OZ     |  28.35 |  0.8 |   0 |\n| YEAST; BAKERS; DRY; ACTIVE    1 PKG    |   7.00 |  0.0 |   0 |\n| PARMESAN CHEESE; GRATED       1 OZ     |  28.35 |  5.4 |  22 |\n| PARMESAN CHEESE; GRATED       1 CUP    | 100.00 | 19.1 |  79 |\n| PARMESAN CHEESE; GRATED       1 TBSP   |   5.00 |  1.0 |   4 |\n| YEAST; BREWERS; DRY           1 TBSP   |   8.00 |  0.0 |   0 |\n| LAMB;CHOPS;ARM;BRAISED;LEAN   1.7 OZ   |  48.00 |  2.9 |  59 |\n| TUNA; CANND; DRND;WATR; WHITE 3 OZ     |  85.00 |  0.3 |  48 |\n| NONFAT DRY MILK; INSTANTIZED  1 CUP    |  68.00 |  0.3 |  12 |\n| NONFAT DRY MILK; INSTANTIZED  1 ENVLPE |  91.00 |  0.4 |  17 |\n| BUTTERMILK; DRIED             1 CUP    | 120.00 |  4.3 |  83 |\n| BEEF; DRIED; CHIPPED          2.5 OZ   |  72.00 |  1.8 |  46 |\n| PORK SHOULDER; BRAISD; LEAN   2.4 OZ   |  67.00 |  2.8 |  76 |\n| BEEF; CKD;BTTM ROUND;LEAN ONLY2.8 OZ   |  78.00 |  2.7 |  75 |\n| PORK CHOP; LOIN; BROIL; LEAN  2.5 OZ   |  72.00 |  2.6 |  71 |\n| LAMB;CHOPS;ARM;BRAISED;LEAN+FT2.2 OZ   |  63.00 |  6.9 |  77 |\n| CHICKEN; FRIED; FLOUR; BREAST 3.5 OZ   |  98.00 |  2.4 |  87 |\n| PORK; CURED; BACON; REGUL;CKED3 SLICE  |  19.00 |  3.3 |  16 |\n| CHICKEN; ROASTED; BREAST      3.0 OZ   |  86.00 |  0.9 |  73 |\n| PEANUT BUTTER                 1 TBSP   |  16.00 |  1.4 |   0 |\n| BEEF; CKD;CHUCK BLADE;LEANONLY2.2 OZ   |  62.00 |  3.9 |  66 |\n| BEEF STEAK;SIRLOIN;BROIL;LEAN 2.5 OZ   |  72.00 |  2.6 |  64 |\n| LAMB;CHOPS;LOIN;BROIL;LEAN    2.3 OZ   |  64.00 |  2.6 |  60 |\n| BEEF; CKD;BTTM ROUND;LEAN+ FAT3 OZ     |  85.00 |  4.8 |  81 |\n| TURKEY; ROASTED; LIGHT + DARK 3 PIECES |  85.00 |  1.4 |  65 |\n| TURKEY; ROASTED; LIGHT MEAT   2 PIECES |  85.00 |  0.9 |  59 |\n| BEEF ROAST; EYE O RND; LEAN   2.6 OZ   |  75.00 |  1.9 |  52 |\n| TURKEY; ROASTED; LIGHT + DARK 1 CUP    | 140.00 |  2.3 | 106 |\n| PORK CHOP; LOIN;PANFRY; LEAN  2.4 OZ   |  67.00 |  3.7 |  72 |\n| ⋮ | ⋮ | ⋮ | ⋮ |\n| TABLE SYRUP (CORN AND MAPLE)  2 TBSP   |  42.0 | 0.0 |  0 |\n| JELLIES                       1 PKT    |  14.0 | 0.0 |  0 |\n| GIN;RUM;VODKA;WHISKY 90-PROOF 1.5 F OZ |  42.0 | 0.0 |  0 |\n| GIN;RUM;VODKA;WHISKY 86-PROOF 1.5 F OZ |  42.0 | 0.0 |  0 |\n| IMITATN WHIPD TOPING;PWDRD;PRP1 TBSP   |   4.0 | 0.4 |  0 |\n| IMITATN WHIPD TOPING;PRESSRZD 1 TBSP   |   4.0 | 0.8 |  0 |\n| MAYONNAISE; IMITATION         1 TBSP   |  15.0 | 0.5 |  4 |\n| GIN;RUM;VODKA;WHISKY 80-PROOF 1.5 F OZ |  42.0 | 0.0 |  0 |\n| SOUR CREAM                    1 TBSP   |  12.0 | 1.6 |  5 |\n| LIGHT; COFFEE OR TABLE CREAM  1 TBSP   |  15.0 | 1.8 | 10 |\n| BAKING POWDER;SAS;CAPO4+CASO4 1 TSP    |   2.9 | 0.0 |  0 |\n| IMITATN SOUR DRESSING         1 TBSP   |  12.0 | 1.6 |  1 |\n| BAKING POWDER;SAS; CA PO4     1 TSP    |   3.0 | 0.0 |  0 |\n| FRENCH SALAD DRESSING; LOCALOR1 TBSP   |  16.0 | 0.2 |  0 |\n| HALF AND HALF; CREAM          1 TBSP   |  15.0 | 1.1 |  6 |\n| IMITATION CREAMERS; LIQUID FRZ1 TBSP   |  15.0 | 1.4 |  0 |\n| BAKING POWDER; STRGHT PHOSPHAT1 TSP    |   3.8 | 0.0 |  0 |\n| BAKING POWDER; LOW SODIUM     1 TSP    |   4.3 | 0.0 |  0 |\n| POPSICLE                      1 POPCLE |  95.0 | 0.0 |  0 |\n| PLUMS; RAW; 1-1/2-IN DIAM     1 PLUM   |  28.0 | 0.0 |  0 |\n| LIMEADE;CONCEN;FROZEN;DILUTED 6 FL OZ  | 185.0 | 0.0 |  0 |\n| ITALIAN SALAD DRESSING;LOCALOR1 TBSP   |  15.0 | 0.0 |  0 |\n| LEMON JUICE; CANNED           1 TBSP   |  15.0 | 0.0 |  0 |\n| TEA;INSTANT;PREPARD;SWEETENED 8 FL OZ  | 262.0 | 0.0 |  0 |\n| CLUB SODA                     12 FL OZ | 355.0 | 0.0 |  0 |\n| COFFEE; BREWED                6 FL OZ  | 180.0 | 0.0 |  0 |\n| TEA; BREWED                   8 FL OZ  | 240.0 | 0.0 |  0 |\n| TEA; INSTANT;PREPRD;UNSWEETEND8 FL OZ  | 241.0 | 0.0 |  0 |\n| LETTUCE; BUTTERHEAD; RAW;LEAVE1 LEAF   |  15.0 | 0.0 |  0 |\n| SALT                          1 TSP    |   5.5 | 0.0 |  0 |\n\n",
            "text/latex": "A spec\\_tbl\\_df: 961 × 4\n\\begin{tabular}{llll}\n food item & weight\\_in\\_grams & saturated\\_fat & cholesterol\\\\\n <chr> & <dbl> & <dbl> & <dbl>\\\\\n\\hline\n\t GELATIN; DRY                  1 ENVELP &   7.00 &  0.0 &   0\\\\\n\t SEAWEED; SPIRULINA; DRIED     1 OZ     &  28.35 &  0.8 &   0\\\\\n\t YEAST; BAKERS; DRY; ACTIVE    1 PKG    &   7.00 &  0.0 &   0\\\\\n\t PARMESAN CHEESE; GRATED       1 OZ     &  28.35 &  5.4 &  22\\\\\n\t PARMESAN CHEESE; GRATED       1 CUP    & 100.00 & 19.1 &  79\\\\\n\t PARMESAN CHEESE; GRATED       1 TBSP   &   5.00 &  1.0 &   4\\\\\n\t YEAST; BREWERS; DRY           1 TBSP   &   8.00 &  0.0 &   0\\\\\n\t LAMB;CHOPS;ARM;BRAISED;LEAN   1.7 OZ   &  48.00 &  2.9 &  59\\\\\n\t TUNA; CANND; DRND;WATR; WHITE 3 OZ     &  85.00 &  0.3 &  48\\\\\n\t NONFAT DRY MILK; INSTANTIZED  1 CUP    &  68.00 &  0.3 &  12\\\\\n\t NONFAT DRY MILK; INSTANTIZED  1 ENVLPE &  91.00 &  0.4 &  17\\\\\n\t BUTTERMILK; DRIED             1 CUP    & 120.00 &  4.3 &  83\\\\\n\t BEEF; DRIED; CHIPPED          2.5 OZ   &  72.00 &  1.8 &  46\\\\\n\t PORK SHOULDER; BRAISD; LEAN   2.4 OZ   &  67.00 &  2.8 &  76\\\\\n\t BEEF; CKD;BTTM ROUND;LEAN ONLY2.8 OZ   &  78.00 &  2.7 &  75\\\\\n\t PORK CHOP; LOIN; BROIL; LEAN  2.5 OZ   &  72.00 &  2.6 &  71\\\\\n\t LAMB;CHOPS;ARM;BRAISED;LEAN+FT2.2 OZ   &  63.00 &  6.9 &  77\\\\\n\t CHICKEN; FRIED; FLOUR; BREAST 3.5 OZ   &  98.00 &  2.4 &  87\\\\\n\t PORK; CURED; BACON; REGUL;CKED3 SLICE  &  19.00 &  3.3 &  16\\\\\n\t CHICKEN; ROASTED; BREAST      3.0 OZ   &  86.00 &  0.9 &  73\\\\\n\t PEANUT BUTTER                 1 TBSP   &  16.00 &  1.4 &   0\\\\\n\t BEEF; CKD;CHUCK BLADE;LEANONLY2.2 OZ   &  62.00 &  3.9 &  66\\\\\n\t BEEF STEAK;SIRLOIN;BROIL;LEAN 2.5 OZ   &  72.00 &  2.6 &  64\\\\\n\t LAMB;CHOPS;LOIN;BROIL;LEAN    2.3 OZ   &  64.00 &  2.6 &  60\\\\\n\t BEEF; CKD;BTTM ROUND;LEAN+ FAT3 OZ     &  85.00 &  4.8 &  81\\\\\n\t TURKEY; ROASTED; LIGHT + DARK 3 PIECES &  85.00 &  1.4 &  65\\\\\n\t TURKEY; ROASTED; LIGHT MEAT   2 PIECES &  85.00 &  0.9 &  59\\\\\n\t BEEF ROAST; EYE O RND; LEAN   2.6 OZ   &  75.00 &  1.9 &  52\\\\\n\t TURKEY; ROASTED; LIGHT + DARK 1 CUP    & 140.00 &  2.3 & 106\\\\\n\t PORK CHOP; LOIN;PANFRY; LEAN  2.4 OZ   &  67.00 &  3.7 &  72\\\\\n\t ⋮ & ⋮ & ⋮ & ⋮\\\\\n\t TABLE SYRUP (CORN AND MAPLE)  2 TBSP   &  42.0 & 0.0 &  0\\\\\n\t JELLIES                       1 PKT    &  14.0 & 0.0 &  0\\\\\n\t GIN;RUM;VODKA;WHISKY 90-PROOF 1.5 F OZ &  42.0 & 0.0 &  0\\\\\n\t GIN;RUM;VODKA;WHISKY 86-PROOF 1.5 F OZ &  42.0 & 0.0 &  0\\\\\n\t IMITATN WHIPD TOPING;PWDRD;PRP1 TBSP   &   4.0 & 0.4 &  0\\\\\n\t IMITATN WHIPD TOPING;PRESSRZD 1 TBSP   &   4.0 & 0.8 &  0\\\\\n\t MAYONNAISE; IMITATION         1 TBSP   &  15.0 & 0.5 &  4\\\\\n\t GIN;RUM;VODKA;WHISKY 80-PROOF 1.5 F OZ &  42.0 & 0.0 &  0\\\\\n\t SOUR CREAM                    1 TBSP   &  12.0 & 1.6 &  5\\\\\n\t LIGHT; COFFEE OR TABLE CREAM  1 TBSP   &  15.0 & 1.8 & 10\\\\\n\t BAKING POWDER;SAS;CAPO4+CASO4 1 TSP    &   2.9 & 0.0 &  0\\\\\n\t IMITATN SOUR DRESSING         1 TBSP   &  12.0 & 1.6 &  1\\\\\n\t BAKING POWDER;SAS; CA PO4     1 TSP    &   3.0 & 0.0 &  0\\\\\n\t FRENCH SALAD DRESSING; LOCALOR1 TBSP   &  16.0 & 0.2 &  0\\\\\n\t HALF AND HALF; CREAM          1 TBSP   &  15.0 & 1.1 &  6\\\\\n\t IMITATION CREAMERS; LIQUID FRZ1 TBSP   &  15.0 & 1.4 &  0\\\\\n\t BAKING POWDER; STRGHT PHOSPHAT1 TSP    &   3.8 & 0.0 &  0\\\\\n\t BAKING POWDER; LOW SODIUM     1 TSP    &   4.3 & 0.0 &  0\\\\\n\t POPSICLE                      1 POPCLE &  95.0 & 0.0 &  0\\\\\n\t PLUMS; RAW; 1-1/2-IN DIAM     1 PLUM   &  28.0 & 0.0 &  0\\\\\n\t LIMEADE;CONCEN;FROZEN;DILUTED 6 FL OZ  & 185.0 & 0.0 &  0\\\\\n\t ITALIAN SALAD DRESSING;LOCALOR1 TBSP   &  15.0 & 0.0 &  0\\\\\n\t LEMON JUICE; CANNED           1 TBSP   &  15.0 & 0.0 &  0\\\\\n\t TEA;INSTANT;PREPARD;SWEETENED 8 FL OZ  & 262.0 & 0.0 &  0\\\\\n\t CLUB SODA                     12 FL OZ & 355.0 & 0.0 &  0\\\\\n\t COFFEE; BREWED                6 FL OZ  & 180.0 & 0.0 &  0\\\\\n\t TEA; BREWED                   8 FL OZ  & 240.0 & 0.0 &  0\\\\\n\t TEA; INSTANT;PREPRD;UNSWEETEND8 FL OZ  & 241.0 & 0.0 &  0\\\\\n\t LETTUCE; BUTTERHEAD; RAW;LEAVE1 LEAF   &  15.0 & 0.0 &  0\\\\\n\t SALT                          1 TSP    &   5.5 & 0.0 &  0\\\\\n\\end{tabular}\n",
            "text/plain": [
              "    food item                              weight_in_grams saturated_fat\n",
              "1   GELATIN; DRY                  1 ENVELP   7.00           0.0         \n",
              "2   SEAWEED; SPIRULINA; DRIED     1 OZ      28.35           0.8         \n",
              "3   YEAST; BAKERS; DRY; ACTIVE    1 PKG      7.00           0.0         \n",
              "4   PARMESAN CHEESE; GRATED       1 OZ      28.35           5.4         \n",
              "5   PARMESAN CHEESE; GRATED       1 CUP    100.00          19.1         \n",
              "6   PARMESAN CHEESE; GRATED       1 TBSP     5.00           1.0         \n",
              "7   YEAST; BREWERS; DRY           1 TBSP     8.00           0.0         \n",
              "8   LAMB;CHOPS;ARM;BRAISED;LEAN   1.7 OZ    48.00           2.9         \n",
              "9   TUNA; CANND; DRND;WATR; WHITE 3 OZ      85.00           0.3         \n",
              "10  NONFAT DRY MILK; INSTANTIZED  1 CUP     68.00           0.3         \n",
              "11  NONFAT DRY MILK; INSTANTIZED  1 ENVLPE  91.00           0.4         \n",
              "12  BUTTERMILK; DRIED             1 CUP    120.00           4.3         \n",
              "13  BEEF; DRIED; CHIPPED          2.5 OZ    72.00           1.8         \n",
              "14  PORK SHOULDER; BRAISD; LEAN   2.4 OZ    67.00           2.8         \n",
              "15  BEEF; CKD;BTTM ROUND;LEAN ONLY2.8 OZ    78.00           2.7         \n",
              "16  PORK CHOP; LOIN; BROIL; LEAN  2.5 OZ    72.00           2.6         \n",
              "17  LAMB;CHOPS;ARM;BRAISED;LEAN+FT2.2 OZ    63.00           6.9         \n",
              "18  CHICKEN; FRIED; FLOUR; BREAST 3.5 OZ    98.00           2.4         \n",
              "19  PORK; CURED; BACON; REGUL;CKED3 SLICE   19.00           3.3         \n",
              "20  CHICKEN; ROASTED; BREAST      3.0 OZ    86.00           0.9         \n",
              "21  PEANUT BUTTER                 1 TBSP    16.00           1.4         \n",
              "22  BEEF; CKD;CHUCK BLADE;LEANONLY2.2 OZ    62.00           3.9         \n",
              "23  BEEF STEAK;SIRLOIN;BROIL;LEAN 2.5 OZ    72.00           2.6         \n",
              "24  LAMB;CHOPS;LOIN;BROIL;LEAN    2.3 OZ    64.00           2.6         \n",
              "25  BEEF; CKD;BTTM ROUND;LEAN+ FAT3 OZ      85.00           4.8         \n",
              "26  TURKEY; ROASTED; LIGHT + DARK 3 PIECES  85.00           1.4         \n",
              "27  TURKEY; ROASTED; LIGHT MEAT   2 PIECES  85.00           0.9         \n",
              "28  BEEF ROAST; EYE O RND; LEAN   2.6 OZ    75.00           1.9         \n",
              "29  TURKEY; ROASTED; LIGHT + DARK 1 CUP    140.00           2.3         \n",
              "30  PORK CHOP; LOIN;PANFRY; LEAN  2.4 OZ    67.00           3.7         \n",
              "⋮   ⋮                                      ⋮               ⋮            \n",
              "932 TABLE SYRUP (CORN AND MAPLE)  2 TBSP    42.0           0.0          \n",
              "933 JELLIES                       1 PKT     14.0           0.0          \n",
              "934 GIN;RUM;VODKA;WHISKY 90-PROOF 1.5 F OZ  42.0           0.0          \n",
              "935 GIN;RUM;VODKA;WHISKY 86-PROOF 1.5 F OZ  42.0           0.0          \n",
              "936 IMITATN WHIPD TOPING;PWDRD;PRP1 TBSP     4.0           0.4          \n",
              "937 IMITATN WHIPD TOPING;PRESSRZD 1 TBSP     4.0           0.8          \n",
              "938 MAYONNAISE; IMITATION         1 TBSP    15.0           0.5          \n",
              "939 GIN;RUM;VODKA;WHISKY 80-PROOF 1.5 F OZ  42.0           0.0          \n",
              "940 SOUR CREAM                    1 TBSP    12.0           1.6          \n",
              "941 LIGHT; COFFEE OR TABLE CREAM  1 TBSP    15.0           1.8          \n",
              "942 BAKING POWDER;SAS;CAPO4+CASO4 1 TSP      2.9           0.0          \n",
              "943 IMITATN SOUR DRESSING         1 TBSP    12.0           1.6          \n",
              "944 BAKING POWDER;SAS; CA PO4     1 TSP      3.0           0.0          \n",
              "945 FRENCH SALAD DRESSING; LOCALOR1 TBSP    16.0           0.2          \n",
              "946 HALF AND HALF; CREAM          1 TBSP    15.0           1.1          \n",
              "947 IMITATION CREAMERS; LIQUID FRZ1 TBSP    15.0           1.4          \n",
              "948 BAKING POWDER; STRGHT PHOSPHAT1 TSP      3.8           0.0          \n",
              "949 BAKING POWDER; LOW SODIUM     1 TSP      4.3           0.0          \n",
              "950 POPSICLE                      1 POPCLE  95.0           0.0          \n",
              "951 PLUMS; RAW; 1-1/2-IN DIAM     1 PLUM    28.0           0.0          \n",
              "952 LIMEADE;CONCEN;FROZEN;DILUTED 6 FL OZ  185.0           0.0          \n",
              "953 ITALIAN SALAD DRESSING;LOCALOR1 TBSP    15.0           0.0          \n",
              "954 LEMON JUICE; CANNED           1 TBSP    15.0           0.0          \n",
              "955 TEA;INSTANT;PREPARD;SWEETENED 8 FL OZ  262.0           0.0          \n",
              "956 CLUB SODA                     12 FL OZ 355.0           0.0          \n",
              "957 COFFEE; BREWED                6 FL OZ  180.0           0.0          \n",
              "958 TEA; BREWED                   8 FL OZ  240.0           0.0          \n",
              "959 TEA; INSTANT;PREPRD;UNSWEETEND8 FL OZ  241.0           0.0          \n",
              "960 LETTUCE; BUTTERHEAD; RAW;LEAVE1 LEAF    15.0           0.0          \n",
              "961 SALT                          1 TSP      5.5           0.0          \n",
              "    cholesterol\n",
              "1     0        \n",
              "2     0        \n",
              "3     0        \n",
              "4    22        \n",
              "5    79        \n",
              "6     4        \n",
              "7     0        \n",
              "8    59        \n",
              "9    48        \n",
              "10   12        \n",
              "11   17        \n",
              "12   83        \n",
              "13   46        \n",
              "14   76        \n",
              "15   75        \n",
              "16   71        \n",
              "17   77        \n",
              "18   87        \n",
              "19   16        \n",
              "20   73        \n",
              "21    0        \n",
              "22   66        \n",
              "23   64        \n",
              "24   60        \n",
              "25   81        \n",
              "26   65        \n",
              "27   59        \n",
              "28   52        \n",
              "29  106        \n",
              "30   72        \n",
              "⋮   ⋮          \n",
              "932  0         \n",
              "933  0         \n",
              "934  0         \n",
              "935  0         \n",
              "936  0         \n",
              "937  0         \n",
              "938  4         \n",
              "939  0         \n",
              "940  5         \n",
              "941 10         \n",
              "942  0         \n",
              "943  1         \n",
              "944  0         \n",
              "945  0         \n",
              "946  6         \n",
              "947  0         \n",
              "948  0         \n",
              "949  0         \n",
              "950  0         \n",
              "951  0         \n",
              "952  0         \n",
              "953  0         \n",
              "954  0         \n",
              "955  0         \n",
              "956  0         \n",
              "957  0         \n",
              "958  0         \n",
              "959  0         \n",
              "960  0         \n",
              "961  0         "
            ]
          },
          "metadata": {}
        }
      ]
    },
    {
      "cell_type": "markdown",
      "source": [
        "## **2.Sort the data set by saturated_ fat and produce a listing of the five food items highest in saturated fat. Comment on the validity of comparing food items of different sizes.**"
      ],
      "metadata": {
        "id": "77VuSK3U_q8Y"
      }
    },
    {
      "cell_type": "code",
      "source": [
        "#prints out the top 5 at the head of the data set when ordered by saturated fat column\n",
        "\n",
        "head(nutritionSubsetDF[order(-nutritionSubsetDF$saturated_fat), ], 5)"
      ],
      "metadata": {
        "colab": {
          "base_uri": "https://localhost:8080/",
          "height": 252
        },
        "id": "c7-pOSppOfih",
        "outputId": "dc62ee8a-7b34-4341-8252-bce05619dc76"
      },
      "execution_count": null,
      "outputs": [
        {
          "output_type": "display_data",
          "data": {
            "text/html": [
              "<table class=\"dataframe\">\n",
              "<caption>A tibble: 5 × 4</caption>\n",
              "<thead>\n",
              "\t<tr><th scope=col>food item</th><th scope=col>weight_in_grams</th><th scope=col>saturated_fat</th><th scope=col>cholesterol</th></tr>\n",
              "\t<tr><th scope=col>&lt;chr&gt;</th><th scope=col>&lt;dbl&gt;</th><th scope=col>&lt;dbl&gt;</th><th scope=col>&lt;dbl&gt;</th></tr>\n",
              "</thead>\n",
              "<tbody>\n",
              "\t<tr><td>CHEESECAKE                    1 CAKE </td><td>1110</td><td>119.9</td><td>2053</td></tr>\n",
              "\t<tr><td>ICE CREAM; VANLLA; RICH 16% FT1/2 GAL</td><td>1188</td><td>118.3</td><td> 703</td></tr>\n",
              "\t<tr><td>YELLOWCAKE W/ CHOCFRSTNG;COMML1 CAKE </td><td>1108</td><td> 92.0</td><td> 609</td></tr>\n",
              "\t<tr><td>CREME PIE                     1 PIE  </td><td> 910</td><td> 90.1</td><td>  46</td></tr>\n",
              "\t<tr><td>LARD                          1 CUP  </td><td> 205</td><td> 80.4</td><td> 195</td></tr>\n",
              "</tbody>\n",
              "</table>\n"
            ],
            "text/markdown": "\nA tibble: 5 × 4\n\n| food item &lt;chr&gt; | weight_in_grams &lt;dbl&gt; | saturated_fat &lt;dbl&gt; | cholesterol &lt;dbl&gt; |\n|---|---|---|---|\n| CHEESECAKE                    1 CAKE  | 1110 | 119.9 | 2053 |\n| ICE CREAM; VANLLA; RICH 16% FT1/2 GAL | 1188 | 118.3 |  703 |\n| YELLOWCAKE W/ CHOCFRSTNG;COMML1 CAKE  | 1108 |  92.0 |  609 |\n| CREME PIE                     1 PIE   |  910 |  90.1 |   46 |\n| LARD                          1 CUP   |  205 |  80.4 |  195 |\n\n",
            "text/latex": "A tibble: 5 × 4\n\\begin{tabular}{llll}\n food item & weight\\_in\\_grams & saturated\\_fat & cholesterol\\\\\n <chr> & <dbl> & <dbl> & <dbl>\\\\\n\\hline\n\t CHEESECAKE                    1 CAKE  & 1110 & 119.9 & 2053\\\\\n\t ICE CREAM; VANLLA; RICH 16\\% FT1/2 GAL & 1188 & 118.3 &  703\\\\\n\t YELLOWCAKE W/ CHOCFRSTNG;COMML1 CAKE  & 1108 &  92.0 &  609\\\\\n\t CREME PIE                     1 PIE   &  910 &  90.1 &   46\\\\\n\t LARD                          1 CUP   &  205 &  80.4 &  195\\\\\n\\end{tabular}\n",
            "text/plain": [
              "  food item                             weight_in_grams saturated_fat\n",
              "1 CHEESECAKE                    1 CAKE  1110            119.9        \n",
              "2 ICE CREAM; VANLLA; RICH 16% FT1/2 GAL 1188            118.3        \n",
              "3 YELLOWCAKE W/ CHOCFRSTNG;COMML1 CAKE  1108             92.0        \n",
              "4 CREME PIE                     1 PIE    910             90.1        \n",
              "5 LARD                          1 CUP    205             80.4        \n",
              "  cholesterol\n",
              "1 2053       \n",
              "2  703       \n",
              "3  609       \n",
              "4   46       \n",
              "5  195       "
            ]
          },
          "metadata": {}
        }
      ]
    },
    {
      "cell_type": "markdown",
      "source": [
        "When looking at food sizes it is very important to weigh in portion size with nutrition facts. Comparing a tea spoon of something to a whole pie is unreasonable due to the fact you would most likely have multiple tea spoons of the one and would not have a whole pie. Companies often use portion sizes to combat this."
      ],
      "metadata": {
        "id": "Tr0krq1-pmdQ"
      }
    },
    {
      "cell_type": "markdown",
      "source": [
        "## **3. Create a new variable, saturated_ fat_ per_gram, by dividing the amount of saturated fat  by the weight in grams. Sort the data set by saturated_ fat_ per_gram and produce a listing of the five food  items highest in saturated fat per gram. Which food has the most saturated fat per gram?**"
      ],
      "metadata": {
        "id": "DvMrdHxL_y4E"
      }
    },
    {
      "cell_type": "code",
      "source": [
        "#First create new column for saturated fat per gram by dividing saturated fat by grams\n",
        "#then using the same code as before, print top 5 sorted saturated fat per gram column\n",
        "\n",
        "nutritionSubsetDF$saturated_fat_per_gram <- (nutritionSubsetDF$saturated_fat/nutritionSubsetDF$weight_in_grams)\n",
        "\n",
        "head(nutritionSubsetDF[order(-nutritionSubsetDF$saturated_fat_per_gram), ], 5)"
      ],
      "metadata": {
        "colab": {
          "base_uri": "https://localhost:8080/",
          "height": 252
        },
        "id": "RUECwqRTOgTH",
        "outputId": "ee8c56fc-0fb1-46e8-a8ab-4399a3127625"
      },
      "execution_count": null,
      "outputs": [
        {
          "output_type": "display_data",
          "data": {
            "text/html": [
              "<table class=\"dataframe\">\n",
              "<caption>A tibble: 5 × 5</caption>\n",
              "<thead>\n",
              "\t<tr><th scope=col>food item</th><th scope=col>weight_in_grams</th><th scope=col>saturated_fat</th><th scope=col>cholesterol</th><th scope=col>saturated_fat_per_gram</th></tr>\n",
              "\t<tr><th scope=col>&lt;chr&gt;</th><th scope=col>&lt;dbl&gt;</th><th scope=col>&lt;dbl&gt;</th><th scope=col>&lt;dbl&gt;</th><th scope=col>&lt;dbl&gt;</th></tr>\n",
              "</thead>\n",
              "<tbody>\n",
              "\t<tr><td>BUTTER; SALTED                1 TBSP </td><td> 14</td><td> 7.1</td><td> 31</td><td>0.5071429</td></tr>\n",
              "\t<tr><td>BUTTER; UNSALTED              1 TBSP </td><td> 14</td><td> 7.1</td><td> 31</td><td>0.5071429</td></tr>\n",
              "\t<tr><td>BUTTER; SALTED                1/2 CUP</td><td>113</td><td>57.1</td><td>247</td><td>0.5053097</td></tr>\n",
              "\t<tr><td>BUTTER; UNSALTED              1/2 CUP</td><td>113</td><td>57.1</td><td>247</td><td>0.5053097</td></tr>\n",
              "\t<tr><td>BUTTER; SALTED                1 PAT  </td><td>  5</td><td> 2.5</td><td> 11</td><td>0.5000000</td></tr>\n",
              "</tbody>\n",
              "</table>\n"
            ],
            "text/markdown": "\nA tibble: 5 × 5\n\n| food item &lt;chr&gt; | weight_in_grams &lt;dbl&gt; | saturated_fat &lt;dbl&gt; | cholesterol &lt;dbl&gt; | saturated_fat_per_gram &lt;dbl&gt; |\n|---|---|---|---|---|\n| BUTTER; SALTED                1 TBSP  |  14 |  7.1 |  31 | 0.5071429 |\n| BUTTER; UNSALTED              1 TBSP  |  14 |  7.1 |  31 | 0.5071429 |\n| BUTTER; SALTED                1/2 CUP | 113 | 57.1 | 247 | 0.5053097 |\n| BUTTER; UNSALTED              1/2 CUP | 113 | 57.1 | 247 | 0.5053097 |\n| BUTTER; SALTED                1 PAT   |   5 |  2.5 |  11 | 0.5000000 |\n\n",
            "text/latex": "A tibble: 5 × 5\n\\begin{tabular}{lllll}\n food item & weight\\_in\\_grams & saturated\\_fat & cholesterol & saturated\\_fat\\_per\\_gram\\\\\n <chr> & <dbl> & <dbl> & <dbl> & <dbl>\\\\\n\\hline\n\t BUTTER; SALTED                1 TBSP  &  14 &  7.1 &  31 & 0.5071429\\\\\n\t BUTTER; UNSALTED              1 TBSP  &  14 &  7.1 &  31 & 0.5071429\\\\\n\t BUTTER; SALTED                1/2 CUP & 113 & 57.1 & 247 & 0.5053097\\\\\n\t BUTTER; UNSALTED              1/2 CUP & 113 & 57.1 & 247 & 0.5053097\\\\\n\t BUTTER; SALTED                1 PAT   &   5 &  2.5 &  11 & 0.5000000\\\\\n\\end{tabular}\n",
            "text/plain": [
              "  food item                             weight_in_grams saturated_fat\n",
              "1 BUTTER; SALTED                1 TBSP   14              7.1         \n",
              "2 BUTTER; UNSALTED              1 TBSP   14              7.1         \n",
              "3 BUTTER; SALTED                1/2 CUP 113             57.1         \n",
              "4 BUTTER; UNSALTED              1/2 CUP 113             57.1         \n",
              "5 BUTTER; SALTED                1 PAT     5              2.5         \n",
              "  cholesterol saturated_fat_per_gram\n",
              "1  31         0.5071429             \n",
              "2  31         0.5071429             \n",
              "3 247         0.5053097             \n",
              "4 247         0.5053097             \n",
              "5  11         0.5000000             "
            ]
          },
          "metadata": {}
        }
      ]
    },
    {
      "cell_type": "markdown",
      "source": [
        "## **4. Standardize (zero mean) the field saturated_ fat_ per_gram, and produce a listing of all the food items that are outliers at the high end of the scale. How many food items are outliers at the low end of the scale? Create a density plot for saturated_ fat_ per_gram**"
      ],
      "metadata": {
        "id": "lh873-LR_28B"
      }
    },
    {
      "cell_type": "code",
      "source": [
        "#First we start by scaling the education field\n",
        "nutritionSubsetDF$scaled_saturated_fat_per_gram <- scale(x = nutritionSubsetDF$saturated_fat_per_gram)\n",
        "\n",
        "summary(nutritionSubsetDF$scaled_saturated_fat_per_gram)"
      ],
      "metadata": {
        "colab": {
          "base_uri": "https://localhost:8080/",
          "height": 136
        },
        "id": "in1p7PiXOg2a",
        "outputId": "05f79f08-5ef1-4b8b-bcf6-af62c0310d6a"
      },
      "execution_count": null,
      "outputs": [
        {
          "output_type": "display_data",
          "data": {
            "text/plain": [
              "       V1         \n",
              " Min.   :-0.5620  \n",
              " 1st Qu.:-0.5620  \n",
              " Median :-0.4411  \n",
              " Mean   : 0.0000  \n",
              " 3rd Qu.: 0.1539  \n",
              " Max.   : 7.1068  "
            ]
          },
          "metadata": {}
        }
      ]
    },
    {
      "cell_type": "code",
      "source": [
        "#create the low end of the three sigma rule and the high end by splitting\n",
        "three_sigma_rule_low <- (nutritionSubsetDF$scaled_saturated_fat_per_gram < -3)\n",
        "three_sigma_rule_high <- (nutritionSubsetDF$scaled_saturated_fat_per_gram > 3)\n",
        "\n",
        "#Checking count of outliers\n",
        "cat (\"There are\", sum(three_sigma_rule_low), \"low outliers \\n\\n\")\n",
        "cat (\"There are\", sum(three_sigma_rule_high), \"high outliers \\n\\n\")\n"
      ],
      "metadata": {
        "colab": {
          "base_uri": "https://localhost:8080/"
        },
        "id": "nO074FIibnNF",
        "outputId": "4c2a8b65-fbb4-461c-df5c-3a39a4b79bb5"
      },
      "execution_count": null,
      "outputs": [
        {
          "output_type": "stream",
          "name": "stdout",
          "text": [
            "There are 0 low outliers \n",
            "\n",
            "There are 15 high outliers \n",
            "\n"
          ]
        }
      ]
    },
    {
      "cell_type": "code",
      "source": [
        "#Plots a density graph of the scaled saturated fat per gram\n",
        "plot(density(nutritionSubsetDF$scaled_saturated_fat_per_gram, na.rm = TRUE), main=\"Scaled Saturated Fat Per Gram Density Graph\")"
      ],
      "metadata": {
        "colab": {
          "base_uri": "https://localhost:8080/",
          "height": 437
        },
        "id": "p9cTSb00ec7-",
        "outputId": "b0dca5cb-3e67-496f-e0b4-837b930bd525"
      },
      "execution_count": null,
      "outputs": [
        {
          "output_type": "display_data",
          "data": {
            "text/plain": [
              "Plot with title “Scaled Saturated Fat Per Gram Density Graph”"
            ],
            "image/png": "[encoded data removed]"
          },
          "metadata": {
            "image/png": {
              "width": 420,
              "height": 420
            }
          }
        }
      ]
    },
    {
      "cell_type": "markdown",
      "source": [
        "## **5. Are there any missing values? If so, impute as necessary and explain your approach.**"
      ],
      "metadata": {
        "id": "aREpRxYG_8zg"
      }
    },
    {
      "cell_type": "code",
      "source": [
        "#check to see if there are any missing values\n",
        "colSums(is.na(nutritionSubsetDF))"
      ],
      "metadata": {
        "colab": {
          "base_uri": "https://localhost:8080/",
          "height": 34
        },
        "id": "yXIqHVDjOhod",
        "outputId": "7eb8fd4c-587c-4bf6-eafe-c9c8d0326e15"
      },
      "execution_count": null,
      "outputs": [
        {
          "output_type": "display_data",
          "data": {
            "text/html": [
              "<style>\n",
              ".dl-inline {width: auto; margin:0; padding: 0}\n",
              ".dl-inline>dt, .dl-inline>dd {float: none; width: auto; display: inline-block}\n",
              ".dl-inline>dt::after {content: \":\\0020\"; padding-right: .5ex}\n",
              ".dl-inline>dt:not(:first-of-type) {padding-left: .5ex}\n",
              "</style><dl class=dl-inline><dt>food item</dt><dd>0</dd><dt>weight_in_grams</dt><dd>0</dd><dt>saturated_fat</dt><dd>0</dd><dt>cholesterol</dt><dd>0</dd><dt>saturated_fat_per_gram</dt><dd>0</dd><dt>6</dt><dd>0</dd></dl>\n"
            ],
            "text/markdown": "food item\n:   0weight_in_grams\n:   0saturated_fat\n:   0cholesterol\n:   0saturated_fat_per_gram\n:   06\n:   0\n\n",
            "text/latex": "\\begin{description*}\n\\item[food item] 0\n\\item[weight\\textbackslash{}\\_in\\textbackslash{}\\_grams] 0\n\\item[saturated\\textbackslash{}\\_fat] 0\n\\item[cholesterol] 0\n\\item[saturated\\textbackslash{}\\_fat\\textbackslash{}\\_per\\textbackslash{}\\_gram] 0\n\\item[6] 0\n\\end{description*}\n",
            "text/plain": [
              "             food item        weight_in_grams          saturated_fat \n",
              "                     0                      0                      0 \n",
              "           cholesterol saturated_fat_per_gram                        \n",
              "                     0                      0                      0 "
            ]
          },
          "metadata": {}
        }
      ]
    },
    {
      "cell_type": "markdown",
      "source": [
        "## **6. Standardize (zero mean) the numeric variables, and determine if there are any outliers.**"
      ],
      "metadata": {
        "id": "DfLTmKG-AGyW"
      }
    },
    {
      "cell_type": "code",
      "source": [
        "#Create a scale for cholestrol\n",
        "nutritionSubsetDF$scaled_cholestrol <- scale(x = nutritionSubsetDF$cholesterol)\n",
        "\n",
        "summary(nutritionSubsetDF$scaled_saturated_fat_per_gram)\n",
        "\n",
        "#create the low end of the three sigma rule and the high end by splitting\n",
        "three_sigma_rule_low <- (nutritionSubsetDF$scaled_cholestrol < -3)\n",
        "three_sigma_rule_high <- (nutritionSubsetDF$scaled_cholestrol > 3)\n",
        "\n",
        "#Checking count of outliers\n",
        "cat (\"There are\", sum(three_sigma_rule_low), \"low outliers \\n\\n\")\n",
        "cat (\"There are\", sum(three_sigma_rule_high), \"high outliers \\n\\n\")"
      ],
      "metadata": {
        "colab": {
          "base_uri": "https://localhost:8080/",
          "height": 204
        },
        "id": "1eo8pgmEOiRL",
        "outputId": "b7806961-b4ca-48a8-e663-d57f6747c54b"
      },
      "execution_count": null,
      "outputs": [
        {
          "output_type": "display_data",
          "data": {
            "text/plain": [
              "       V1         \n",
              " Min.   :-0.5620  \n",
              " 1st Qu.:-0.5620  \n",
              " Median :-0.4411  \n",
              " Mean   : 0.0000  \n",
              " 3rd Qu.: 0.1539  \n",
              " Max.   : 7.1068  "
            ]
          },
          "metadata": {}
        },
        {
          "output_type": "stream",
          "name": "stdout",
          "text": [
            "There are 0 low outliers \n",
            "\n",
            "There are 17 high outliers \n",
            "\n"
          ]
        }
      ]
    },
    {
      "cell_type": "code",
      "source": [
        "#Create a scale for weight\n",
        "nutritionSubsetDF$scaled_weight_in_grams <- scale(x = nutritionSubsetDF$weight_in_grams)\n",
        "\n",
        "summary(nutritionSubsetDF$scaled_weight_in_grams)\n",
        "\n",
        "#create the low end of the three sigma rule and the high end by splitting\n",
        "three_sigma_rule_low <- (nutritionSubsetDF$scaled_weight_in_grams < -3)\n",
        "three_sigma_rule_high <- (nutritionSubsetDF$scaled_weight_in_grams > 3)\n",
        "\n",
        "#Checking count of outliers\n",
        "cat (\"There are\", sum(three_sigma_rule_low), \"low outliers \\n\\n\")\n",
        "cat (\"There are\", sum(three_sigma_rule_high), \"high outliers \\n\\n\")"
      ],
      "metadata": {
        "colab": {
          "base_uri": "https://localhost:8080/",
          "height": 204
        },
        "id": "l46cvQLbhutF",
        "outputId": "7b9ddb3b-321a-40cb-f11e-0728c5ea498b"
      },
      "execution_count": null,
      "outputs": [
        {
          "output_type": "display_data",
          "data": {
            "text/plain": [
              "       V1         \n",
              " Min.   :-0.8471  \n",
              " 1st Qu.:-0.6674  \n",
              " Median :-0.2070  \n",
              " Mean   : 0.0000  \n",
              " 3rd Qu.: 0.3899  \n",
              " Max.   : 7.9165  "
            ]
          },
          "metadata": {}
        },
        {
          "output_type": "stream",
          "name": "stdout",
          "text": [
            "There are 0 low outliers \n",
            "\n",
            "There are 22 high outliers \n",
            "\n"
          ]
        }
      ]
    },
    {
      "cell_type": "code",
      "source": [
        "#Create a scale for saturated fat\n",
        "nutritionSubsetDF$scaled_saturated_fat <- scale(x = nutritionSubsetDF$saturated_fat)\n",
        "\n",
        "summary(nutritionSubsetDF$scaled_saturated_fat)\n",
        "\n",
        "#create the low end of the three sigma rule and the high end by splitting\n",
        "three_sigma_rule_low <- (nutritionSubsetDF$scaled_saturated_fat < -3)\n",
        "three_sigma_rule_high <- (nutritionSubsetDF$scaled_saturated_fat > 3)\n",
        "\n",
        "#Checking count of outliers\n",
        "cat (\"There are\", sum(three_sigma_rule_low), \"low outliers \\n\\n\")\n",
        "cat (\"There are\", sum(three_sigma_rule_high), \"high outliers \\n\\n\")"
      ],
      "metadata": {
        "colab": {
          "base_uri": "https://localhost:8080/",
          "height": 204
        },
        "id": "L1sDsQMoipry",
        "outputId": "a21e126e-f847-4104-c554-5e322cb04a3c"
      },
      "execution_count": null,
      "outputs": [
        {
          "output_type": "display_data",
          "data": {
            "text/plain": [
              "       V1         \n",
              " Min.   :-0.3711  \n",
              " 1st Qu.:-0.3711  \n",
              " Median :-0.3339  \n",
              " Mean   : 0.0000  \n",
              " 3rd Qu.:-0.0640  \n",
              " Max.   :10.7882  "
            ]
          },
          "metadata": {}
        },
        {
          "output_type": "stream",
          "name": "stdout",
          "text": [
            "There are 0 low outliers \n",
            "\n",
            "There are 20 high outliers \n",
            "\n"
          ]
        }
      ]
    },
    {
      "cell_type": "markdown",
      "source": [
        "## **7. Summarize**"
      ],
      "metadata": {
        "id": "9ePRbrwgANP9"
      }
    },
    {
      "cell_type": "markdown",
      "source": [
        "*   Utilizing sort by we are able to determine the highs and the lows of certain column values\n",
        "*   When looking at the data set it is good to consider the portions of food when weighing the health factors\n",
        "* When using grams to divide the saturated fat the data had less outliers\n",
        "* The data set only have high outliers in every category\n",
        "* The data had no data that needed to be imputed\n",
        "* The different usages of food whether it be weight, usage or amount are all things you need to think about when looking at this data set"
      ],
      "metadata": {
        "id": "YE_jJ7wFlvwp"
      }
    }
  ]
}