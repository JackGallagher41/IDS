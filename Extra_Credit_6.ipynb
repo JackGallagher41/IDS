{
  "nbformat": 4,
  "nbformat_minor": 0,
  "metadata": {
    "colab": {
      "provenance": [],
      "authorship_tag": "ABX9TyM7D4rO+zNmCIPbWXYFB7LN",
      "include_colab_link": true
    },
    "kernelspec": {
      "name": "python3",
      "display_name": "Python 3"
    },
    "language_info": {
      "name": "python"
    }
  },
  "cells": [
    {
      "cell_type": "markdown",
      "metadata": {
        "id": "view-in-github",
        "colab_type": "text"
      },
      "source": [
        "<a href=\"https://colab.research.google.com/github/JackGallagher41/IDS/blob/Data-Science-extra-credit/Extra_Credit_6.ipynb\" target=\"_parent\"><img src=\"https://colab.research.google.com/assets/colab-badge.svg\" alt=\"Open In Colab\"/></a>"
      ]
    },
    {
      "cell_type": "markdown",
      "source": [
        "#**Jack Gallagher**"
      ],
      "metadata": {
        "id": "1zz6_kN1PtYD"
      }
    },
    {
      "cell_type": "markdown",
      "source": [
        "# Extra Credit 6\n"
      ],
      "metadata": {
        "id": "ehcoKxW-SDIK"
      }
    },
    {
      "cell_type": "markdown",
      "source": [
        "### Comparison of pearsons r and coefficient of determination (R²):"
      ],
      "metadata": {
        "id": "BaxEGXxYPge2"
      }
    },
    {
      "cell_type": "markdown",
      "source": [
        "**Pearsons r:** used to determine correlation, [-1,1]"
      ],
      "metadata": {
        "id": "OIHdHqPxRJjT"
      }
    },
    {
      "cell_type": "markdown",
      "source": [
        "**coefficient of determination (R²):** determines the percentage of variation explained by independent parameters, [0,1]"
      ],
      "metadata": {
        "id": "7AECoe5CRwzl"
      }
    },
    {
      "cell_type": "markdown",
      "source": [
        "When converting r to R² you are able to simply square r. This does not work in reverse cases though due to r being directional and holding negative values. No matter how you square root R² it will always be a positive number whereas when you square a negative r you will still come up with the positive value necessary for R².\n",
        "\n",
        "\n",
        "\n"
      ],
      "metadata": {
        "id": "ZzzPI5rhP1Ti"
      }
    }
  ]
}