{
  "nbformat": 4,
  "nbformat_minor": 0,
  "metadata": {
    "colab": {
      "provenance": [],
      "authorship_tag": "ABX9TyNP6z5quUY2D3S8z7xWcIYh",
      "include_colab_link": true
    },
    "kernelspec": {
      "name": "python3",
      "display_name": "Python 3"
    },
    "language_info": {
      "name": "python"
    }
  },
  "cells": [
    {
      "cell_type": "markdown",
      "metadata": {
        "id": "view-in-github",
        "colab_type": "text"
      },
      "source": [
        "<a href=\"https://colab.research.google.com/github/JackGallagher41/IDS/blob/main/Project5/Project_5_IDS.ipynb\" target=\"_parent\"><img src=\"https://colab.research.google.com/assets/colab-badge.svg\" alt=\"Open In Colab\"/></a>"
      ]
    },
    {
      "cell_type": "markdown",
      "source": [
        "## **Jack Gallagher**"
      ],
      "metadata": {
        "id": "v5ahVtQ4olhr"
      }
    },
    {
      "cell_type": "markdown",
      "source": [
        "### **Project 5**"
      ],
      "metadata": {
        "id": "uPQW5N2HoqjD"
      }
    },
    {
      "cell_type": "markdown",
      "source": [
        "November 17, 2023"
      ],
      "metadata": {
        "id": "1KQUxj49owwO"
      }
    },
    {
      "cell_type": "markdown",
      "source": [
        "## **1. Use the following data set: https://raw.githubusercontent.com/bforoura/IDS/main/HW5/wine_flag_all.csvLinks to an external site.**"
      ],
      "metadata": {
        "id": "aO6ZjheCo0qD"
      }
    },
    {
      "cell_type": "code",
      "execution_count": null,
      "metadata": {
        "colab": {
          "base_uri": "https://localhost:8080/",
          "height": 423
        },
        "id": "X9GxCLAsoVQd",
        "outputId": "fa3ef631-ee29-44a7-d32b-1890eb40b518"
      },
      "outputs": [
        {
          "output_type": "execute_result",
          "data": {
            "text/plain": [
              "       Type Alcohol_flag Sugar_flag\n",
              "0       Red         High       High\n",
              "1       Red         High        Low\n",
              "2       Red          Low       High\n",
              "3       Red         High        Low\n",
              "4       Red          Low        Low\n",
              "...     ...          ...        ...\n",
              "3340  White         High       High\n",
              "3341  White         High        Low\n",
              "3342  White         High        Low\n",
              "3343  White         High        Low\n",
              "3344  White         High        Low\n",
              "\n",
              "[3345 rows x 3 columns]"
            ],
            "text/html": [
              "\n",
              "  <div id=\"df-902203ea-9bed-496d-b9c8-69010e24eed9\" class=\"colab-df-container\">\n",
              "    <div>\n",
              "<style scoped>\n",
              "    .dataframe tbody tr th:only-of-type {\n",
              "        vertical-align: middle;\n",
              "    }\n",
              "\n",
              "    .dataframe tbody tr th {\n",
              "        vertical-align: top;\n",
              "    }\n",
              "\n",
              "    .dataframe thead th {\n",
              "        text-align: right;\n",
              "    }\n",
              "</style>\n",
              "<table border=\"1\" class=\"dataframe\">\n",
              "  <thead>\n",
              "    <tr style=\"text-align: right;\">\n",
              "      <th></th>\n",
              "      <th>Type</th>\n",
              "      <th>Alcohol_flag</th>\n",
              "      <th>Sugar_flag</th>\n",
              "    </tr>\n",
              "  </thead>\n",
              "  <tbody>\n",
              "    <tr>\n",
              "      <th>0</th>\n",
              "      <td>Red</td>\n",
              "      <td>High</td>\n",
              "      <td>High</td>\n",
              "    </tr>\n",
              "    <tr>\n",
              "      <th>1</th>\n",
              "      <td>Red</td>\n",
              "      <td>High</td>\n",
              "      <td>Low</td>\n",
              "    </tr>\n",
              "    <tr>\n",
              "      <th>2</th>\n",
              "      <td>Red</td>\n",
              "      <td>Low</td>\n",
              "      <td>High</td>\n",
              "    </tr>\n",
              "    <tr>\n",
              "      <th>3</th>\n",
              "      <td>Red</td>\n",
              "      <td>High</td>\n",
              "      <td>Low</td>\n",
              "    </tr>\n",
              "    <tr>\n",
              "      <th>4</th>\n",
              "      <td>Red</td>\n",
              "      <td>Low</td>\n",
              "      <td>Low</td>\n",
              "    </tr>\n",
              "    <tr>\n",
              "      <th>...</th>\n",
              "      <td>...</td>\n",
              "      <td>...</td>\n",
              "      <td>...</td>\n",
              "    </tr>\n",
              "    <tr>\n",
              "      <th>3340</th>\n",
              "      <td>White</td>\n",
              "      <td>High</td>\n",
              "      <td>High</td>\n",
              "    </tr>\n",
              "    <tr>\n",
              "      <th>3341</th>\n",
              "      <td>White</td>\n",
              "      <td>High</td>\n",
              "      <td>Low</td>\n",
              "    </tr>\n",
              "    <tr>\n",
              "      <th>3342</th>\n",
              "      <td>White</td>\n",
              "      <td>High</td>\n",
              "      <td>Low</td>\n",
              "    </tr>\n",
              "    <tr>\n",
              "      <th>3343</th>\n",
              "      <td>White</td>\n",
              "      <td>High</td>\n",
              "      <td>Low</td>\n",
              "    </tr>\n",
              "    <tr>\n",
              "      <th>3344</th>\n",
              "      <td>White</td>\n",
              "      <td>High</td>\n",
              "      <td>Low</td>\n",
              "    </tr>\n",
              "  </tbody>\n",
              "</table>\n",
              "<p>3345 rows × 3 columns</p>\n",
              "</div>\n",
              "    <div class=\"colab-df-buttons\">\n",
              "\n",
              "  <div class=\"colab-df-container\">\n",
              "    <button class=\"colab-df-convert\" onclick=\"convertToInteractive('df-902203ea-9bed-496d-b9c8-69010e24eed9')\"\n",
              "            title=\"Convert this dataframe to an interactive table.\"\n",
              "            style=\"display:none;\">\n",
              "\n",
              "  <svg xmlns=\"http://www.w3.org/2000/svg\" height=\"24px\" viewBox=\"0 -960 960 960\">\n",
              "    <path d=\"M120-120v-720h720v720H120Zm60-500h600v-160H180v160Zm220 220h160v-160H400v160Zm0 220h160v-160H400v160ZM180-400h160v-160H180v160Zm440 0h160v-160H620v160ZM180-180h160v-160H180v160Zm440 0h160v-160H620v160Z\"/>\n",
              "  </svg>\n",
              "    </button>\n",
              "\n",
              "  <style>\n",
              "    .colab-df-container {\n",
              "      display:flex;\n",
              "      gap: 12px;\n",
              "    }\n",
              "\n",
              "    .colab-df-convert {\n",
              "      background-color: #E8F0FE;\n",
              "      border: none;\n",
              "      border-radius: 50%;\n",
              "      cursor: pointer;\n",
              "      display: none;\n",
              "      fill: #1967D2;\n",
              "      height: 32px;\n",
              "      padding: 0 0 0 0;\n",
              "      width: 32px;\n",
              "    }\n",
              "\n",
              "    .colab-df-convert:hover {\n",
              "      background-color: #E2EBFA;\n",
              "      box-shadow: 0px 1px 2px rgba(60, 64, 67, 0.3), 0px 1px 3px 1px rgba(60, 64, 67, 0.15);\n",
              "      fill: #174EA6;\n",
              "    }\n",
              "\n",
              "    .colab-df-buttons div {\n",
              "      margin-bottom: 4px;\n",
              "    }\n",
              "\n",
              "    [theme=dark] .colab-df-convert {\n",
              "      background-color: #3B4455;\n",
              "      fill: #D2E3FC;\n",
              "    }\n",
              "\n",
              "    [theme=dark] .colab-df-convert:hover {\n",
              "      background-color: #434B5C;\n",
              "      box-shadow: 0px 1px 3px 1px rgba(0, 0, 0, 0.15);\n",
              "      filter: drop-shadow(0px 1px 2px rgba(0, 0, 0, 0.3));\n",
              "      fill: #FFFFFF;\n",
              "    }\n",
              "  </style>\n",
              "\n",
              "    <script>\n",
              "      const buttonEl =\n",
              "        document.querySelector('#df-902203ea-9bed-496d-b9c8-69010e24eed9 button.colab-df-convert');\n",
              "      buttonEl.style.display =\n",
              "        google.colab.kernel.accessAllowed ? 'block' : 'none';\n",
              "\n",
              "      async function convertToInteractive(key) {\n",
              "        const element = document.querySelector('#df-902203ea-9bed-496d-b9c8-69010e24eed9');\n",
              "        const dataTable =\n",
              "          await google.colab.kernel.invokeFunction('convertToInteractive',\n",
              "                                                    [key], {});\n",
              "        if (!dataTable) return;\n",
              "\n",
              "        const docLinkHtml = 'Like what you see? Visit the ' +\n",
              "          '<a target=\"_blank\" href=https://colab.research.google.com/notebooks/data_table.ipynb>data table notebook</a>'\n",
              "          + ' to learn more about interactive tables.';\n",
              "        element.innerHTML = '';\n",
              "        dataTable['output_type'] = 'display_data';\n",
              "        await google.colab.output.renderOutput(dataTable, element);\n",
              "        const docLink = document.createElement('div');\n",
              "        docLink.innerHTML = docLinkHtml;\n",
              "        element.appendChild(docLink);\n",
              "      }\n",
              "    </script>\n",
              "  </div>\n",
              "\n",
              "\n",
              "<div id=\"df-f61509e8-9a9c-491d-85ef-be84d4a226d6\">\n",
              "  <button class=\"colab-df-quickchart\" onclick=\"quickchart('df-f61509e8-9a9c-491d-85ef-be84d4a226d6')\"\n",
              "            title=\"Suggest charts\"\n",
              "            style=\"display:none;\">\n",
              "\n",
              "<svg xmlns=\"http://www.w3.org/2000/svg\" height=\"24px\"viewBox=\"0 0 24 24\"\n",
              "     width=\"24px\">\n",
              "    <g>\n",
              "        <path d=\"M19 3H5c-1.1 0-2 .9-2 2v14c0 1.1.9 2 2 2h14c1.1 0 2-.9 2-2V5c0-1.1-.9-2-2-2zM9 17H7v-7h2v7zm4 0h-2V7h2v10zm4 0h-2v-4h2v4z\"/>\n",
              "    </g>\n",
              "</svg>\n",
              "  </button>\n",
              "\n",
              "<style>\n",
              "  .colab-df-quickchart {\n",
              "      --bg-color: #E8F0FE;\n",
              "      --fill-color: #1967D2;\n",
              "      --hover-bg-color: #E2EBFA;\n",
              "      --hover-fill-color: #174EA6;\n",
              "      --disabled-fill-color: #AAA;\n",
              "      --disabled-bg-color: #DDD;\n",
              "  }\n",
              "\n",
              "  [theme=dark] .colab-df-quickchart {\n",
              "      --bg-color: #3B4455;\n",
              "      --fill-color: #D2E3FC;\n",
              "      --hover-bg-color: #434B5C;\n",
              "      --hover-fill-color: #FFFFFF;\n",
              "      --disabled-bg-color: #3B4455;\n",
              "      --disabled-fill-color: #666;\n",
              "  }\n",
              "\n",
              "  .colab-df-quickchart {\n",
              "    background-color: var(--bg-color);\n",
              "    border: none;\n",
              "    border-radius: 50%;\n",
              "    cursor: pointer;\n",
              "    display: none;\n",
              "    fill: var(--fill-color);\n",
              "    height: 32px;\n",
              "    padding: 0;\n",
              "    width: 32px;\n",
              "  }\n",
              "\n",
              "  .colab-df-quickchart:hover {\n",
              "    background-color: var(--hover-bg-color);\n",
              "    box-shadow: 0 1px 2px rgba(60, 64, 67, 0.3), 0 1px 3px 1px rgba(60, 64, 67, 0.15);\n",
              "    fill: var(--button-hover-fill-color);\n",
              "  }\n",
              "\n",
              "  .colab-df-quickchart-complete:disabled,\n",
              "  .colab-df-quickchart-complete:disabled:hover {\n",
              "    background-color: var(--disabled-bg-color);\n",
              "    fill: var(--disabled-fill-color);\n",
              "    box-shadow: none;\n",
              "  }\n",
              "\n",
              "  .colab-df-spinner {\n",
              "    border: 2px solid var(--fill-color);\n",
              "    border-color: transparent;\n",
              "    border-bottom-color: var(--fill-color);\n",
              "    animation:\n",
              "      spin 1s steps(1) infinite;\n",
              "  }\n",
              "\n",
              "  @keyframes spin {\n",
              "    0% {\n",
              "      border-color: transparent;\n",
              "      border-bottom-color: var(--fill-color);\n",
              "      border-left-color: var(--fill-color);\n",
              "    }\n",
              "    20% {\n",
              "      border-color: transparent;\n",
              "      border-left-color: var(--fill-color);\n",
              "      border-top-color: var(--fill-color);\n",
              "    }\n",
              "    30% {\n",
              "      border-color: transparent;\n",
              "      border-left-color: var(--fill-color);\n",
              "      border-top-color: var(--fill-color);\n",
              "      border-right-color: var(--fill-color);\n",
              "    }\n",
              "    40% {\n",
              "      border-color: transparent;\n",
              "      border-right-color: var(--fill-color);\n",
              "      border-top-color: var(--fill-color);\n",
              "    }\n",
              "    60% {\n",
              "      border-color: transparent;\n",
              "      border-right-color: var(--fill-color);\n",
              "    }\n",
              "    80% {\n",
              "      border-color: transparent;\n",
              "      border-right-color: var(--fill-color);\n",
              "      border-bottom-color: var(--fill-color);\n",
              "    }\n",
              "    90% {\n",
              "      border-color: transparent;\n",
              "      border-bottom-color: var(--fill-color);\n",
              "    }\n",
              "  }\n",
              "</style>\n",
              "\n",
              "  <script>\n",
              "    async function quickchart(key) {\n",
              "      const quickchartButtonEl =\n",
              "        document.querySelector('#' + key + ' button');\n",
              "      quickchartButtonEl.disabled = true;  // To prevent multiple clicks.\n",
              "      quickchartButtonEl.classList.add('colab-df-spinner');\n",
              "      try {\n",
              "        const charts = await google.colab.kernel.invokeFunction(\n",
              "            'suggestCharts', [key], {});\n",
              "      } catch (error) {\n",
              "        console.error('Error during call to suggestCharts:', error);\n",
              "      }\n",
              "      quickchartButtonEl.classList.remove('colab-df-spinner');\n",
              "      quickchartButtonEl.classList.add('colab-df-quickchart-complete');\n",
              "    }\n",
              "    (() => {\n",
              "      let quickchartButtonEl =\n",
              "        document.querySelector('#df-f61509e8-9a9c-491d-85ef-be84d4a226d6 button');\n",
              "      quickchartButtonEl.style.display =\n",
              "        google.colab.kernel.accessAllowed ? 'block' : 'none';\n",
              "    })();\n",
              "  </script>\n",
              "</div>\n",
              "    </div>\n",
              "  </div>\n"
            ]
          },
          "metadata": {},
          "execution_count": 3
        }
      ],
      "source": [
        "import pandas as pd\n",
        "\n",
        "#used to import the database\n",
        "alcoholDF  = pd.read_csv(\"https://raw.githubusercontent.com/bforoura/IDS/main/HW5/wine_flag_all.csv\")\n",
        "\n",
        "#print the dataframe\n",
        "alcoholDF"
      ]
    },
    {
      "cell_type": "markdown",
      "source": [
        "## **2. OBJECTIVE: You will use the data set to demonstrate how we can use Naïve Bayes to classify a response variable. Specifically, we want to predict whether a wine is red or white based on whether the wine has high or low alcohol and sugar content.**"
      ],
      "metadata": {
        "id": "2DlS4ILlpHja"
      }
    },
    {
      "cell_type": "markdown",
      "source": [
        "## **3. Test for presence any missing attribute/target values and impute as necessary.**"
      ],
      "metadata": {
        "id": "KU7L2VTLpOp2"
      }
    },
    {
      "cell_type": "code",
      "source": [
        "alcoholDF.isna().any()"
      ],
      "metadata": {
        "colab": {
          "base_uri": "https://localhost:8080/"
        },
        "id": "9sVNxVIPpWbb",
        "outputId": "ec4f000d-1b9e-4573-b8bf-a433b8412a26"
      },
      "execution_count": null,
      "outputs": [
        {
          "output_type": "execute_result",
          "data": {
            "text/plain": [
              "Type            False\n",
              "Alcohol_flag    False\n",
              "Sugar_flag      False\n",
              "dtype: bool"
            ]
          },
          "metadata": {},
          "execution_count": 4
        }
      ]
    },
    {
      "cell_type": "markdown",
      "source": [
        "Using .isna() we are able to conclude that there are no missing values within the data set therefore causing no necessary imputations"
      ],
      "metadata": {
        "id": "rvoRDtt2pjtQ"
      }
    },
    {
      "cell_type": "markdown",
      "source": [
        "## **4. Encode all categoric attributes (e.g. label encoding or ordinal encoding, etc.)**"
      ],
      "metadata": {
        "id": "NAV-TxbZp0Rs"
      }
    },
    {
      "cell_type": "code",
      "source": [
        "from sklearn import preprocessing\n",
        "le = preprocessing.LabelEncoder()\n",
        "\n",
        "# save the encoded dataframe here\n",
        "encoded_alcoholDF = pd.DataFrame()\n",
        "\n",
        "# Encode  only the categoric or boolean attributes\n",
        "for i in range(0, alcoholDF.shape[1]):\n",
        "    if alcoholDF.dtypes[i]=='object' or alcoholDF.dtypes[i]=='bool':\n",
        "        encoded_alcoholDF[alcoholDF.columns[i]] = le.fit_transform(alcoholDF[alcoholDF.columns[i]])\n",
        "\n",
        "\n",
        "\n",
        "print(\"-=========================\")\n",
        "print(alcoholDF)\n",
        "print(\"-=========================\")\n",
        "encoded_alcoholDF"
      ],
      "metadata": {
        "colab": {
          "base_uri": "https://localhost:8080/",
          "height": 701
        },
        "id": "WT09GUv4p5XF",
        "outputId": "4bc4e8d3-cad6-4cc8-b554-50e5f0307924"
      },
      "execution_count": null,
      "outputs": [
        {
          "output_type": "stream",
          "name": "stdout",
          "text": [
            "-=========================\n",
            "       Type Alcohol_flag Sugar_flag\n",
            "0       Red         High       High\n",
            "1       Red         High        Low\n",
            "2       Red          Low       High\n",
            "3       Red         High        Low\n",
            "4       Red          Low        Low\n",
            "...     ...          ...        ...\n",
            "3340  White         High       High\n",
            "3341  White         High        Low\n",
            "3342  White         High        Low\n",
            "3343  White         High        Low\n",
            "3344  White         High        Low\n",
            "\n",
            "[3345 rows x 3 columns]\n",
            "-=========================\n"
          ]
        },
        {
          "output_type": "execute_result",
          "data": {
            "text/plain": [
              "      Type  Alcohol_flag  Sugar_flag\n",
              "0        0             0           0\n",
              "1        0             0           1\n",
              "2        0             1           0\n",
              "3        0             0           1\n",
              "4        0             1           1\n",
              "...    ...           ...         ...\n",
              "3340     1             0           0\n",
              "3341     1             0           1\n",
              "3342     1             0           1\n",
              "3343     1             0           1\n",
              "3344     1             0           1\n",
              "\n",
              "[3345 rows x 3 columns]"
            ],
            "text/html": [
              "\n",
              "  <div id=\"df-f39bfffb-19f7-43dd-b0c8-e9cf43200d7a\" class=\"colab-df-container\">\n",
              "    <div>\n",
              "<style scoped>\n",
              "    .dataframe tbody tr th:only-of-type {\n",
              "        vertical-align: middle;\n",
              "    }\n",
              "\n",
              "    .dataframe tbody tr th {\n",
              "        vertical-align: top;\n",
              "    }\n",
              "\n",
              "    .dataframe thead th {\n",
              "        text-align: right;\n",
              "    }\n",
              "</style>\n",
              "<table border=\"1\" class=\"dataframe\">\n",
              "  <thead>\n",
              "    <tr style=\"text-align: right;\">\n",
              "      <th></th>\n",
              "      <th>Type</th>\n",
              "      <th>Alcohol_flag</th>\n",
              "      <th>Sugar_flag</th>\n",
              "    </tr>\n",
              "  </thead>\n",
              "  <tbody>\n",
              "    <tr>\n",
              "      <th>0</th>\n",
              "      <td>0</td>\n",
              "      <td>0</td>\n",
              "      <td>0</td>\n",
              "    </tr>\n",
              "    <tr>\n",
              "      <th>1</th>\n",
              "      <td>0</td>\n",
              "      <td>0</td>\n",
              "      <td>1</td>\n",
              "    </tr>\n",
              "    <tr>\n",
              "      <th>2</th>\n",
              "      <td>0</td>\n",
              "      <td>1</td>\n",
              "      <td>0</td>\n",
              "    </tr>\n",
              "    <tr>\n",
              "      <th>3</th>\n",
              "      <td>0</td>\n",
              "      <td>0</td>\n",
              "      <td>1</td>\n",
              "    </tr>\n",
              "    <tr>\n",
              "      <th>4</th>\n",
              "      <td>0</td>\n",
              "      <td>1</td>\n",
              "      <td>1</td>\n",
              "    </tr>\n",
              "    <tr>\n",
              "      <th>...</th>\n",
              "      <td>...</td>\n",
              "      <td>...</td>\n",
              "      <td>...</td>\n",
              "    </tr>\n",
              "    <tr>\n",
              "      <th>3340</th>\n",
              "      <td>1</td>\n",
              "      <td>0</td>\n",
              "      <td>0</td>\n",
              "    </tr>\n",
              "    <tr>\n",
              "      <th>3341</th>\n",
              "      <td>1</td>\n",
              "      <td>0</td>\n",
              "      <td>1</td>\n",
              "    </tr>\n",
              "    <tr>\n",
              "      <th>3342</th>\n",
              "      <td>1</td>\n",
              "      <td>0</td>\n",
              "      <td>1</td>\n",
              "    </tr>\n",
              "    <tr>\n",
              "      <th>3343</th>\n",
              "      <td>1</td>\n",
              "      <td>0</td>\n",
              "      <td>1</td>\n",
              "    </tr>\n",
              "    <tr>\n",
              "      <th>3344</th>\n",
              "      <td>1</td>\n",
              "      <td>0</td>\n",
              "      <td>1</td>\n",
              "    </tr>\n",
              "  </tbody>\n",
              "</table>\n",
              "<p>3345 rows × 3 columns</p>\n",
              "</div>\n",
              "    <div class=\"colab-df-buttons\">\n",
              "\n",
              "  <div class=\"colab-df-container\">\n",
              "    <button class=\"colab-df-convert\" onclick=\"convertToInteractive('df-f39bfffb-19f7-43dd-b0c8-e9cf43200d7a')\"\n",
              "            title=\"Convert this dataframe to an interactive table.\"\n",
              "            style=\"display:none;\">\n",
              "\n",
              "  <svg xmlns=\"http://www.w3.org/2000/svg\" height=\"24px\" viewBox=\"0 -960 960 960\">\n",
              "    <path d=\"M120-120v-720h720v720H120Zm60-500h600v-160H180v160Zm220 220h160v-160H400v160Zm0 220h160v-160H400v160ZM180-400h160v-160H180v160Zm440 0h160v-160H620v160ZM180-180h160v-160H180v160Zm440 0h160v-160H620v160Z\"/>\n",
              "  </svg>\n",
              "    </button>\n",
              "\n",
              "  <style>\n",
              "    .colab-df-container {\n",
              "      display:flex;\n",
              "      gap: 12px;\n",
              "    }\n",
              "\n",
              "    .colab-df-convert {\n",
              "      background-color: #E8F0FE;\n",
              "      border: none;\n",
              "      border-radius: 50%;\n",
              "      cursor: pointer;\n",
              "      display: none;\n",
              "      fill: #1967D2;\n",
              "      height: 32px;\n",
              "      padding: 0 0 0 0;\n",
              "      width: 32px;\n",
              "    }\n",
              "\n",
              "    .colab-df-convert:hover {\n",
              "      background-color: #E2EBFA;\n",
              "      box-shadow: 0px 1px 2px rgba(60, 64, 67, 0.3), 0px 1px 3px 1px rgba(60, 64, 67, 0.15);\n",
              "      fill: #174EA6;\n",
              "    }\n",
              "\n",
              "    .colab-df-buttons div {\n",
              "      margin-bottom: 4px;\n",
              "    }\n",
              "\n",
              "    [theme=dark] .colab-df-convert {\n",
              "      background-color: #3B4455;\n",
              "      fill: #D2E3FC;\n",
              "    }\n",
              "\n",
              "    [theme=dark] .colab-df-convert:hover {\n",
              "      background-color: #434B5C;\n",
              "      box-shadow: 0px 1px 3px 1px rgba(0, 0, 0, 0.15);\n",
              "      filter: drop-shadow(0px 1px 2px rgba(0, 0, 0, 0.3));\n",
              "      fill: #FFFFFF;\n",
              "    }\n",
              "  </style>\n",
              "\n",
              "    <script>\n",
              "      const buttonEl =\n",
              "        document.querySelector('#df-f39bfffb-19f7-43dd-b0c8-e9cf43200d7a button.colab-df-convert');\n",
              "      buttonEl.style.display =\n",
              "        google.colab.kernel.accessAllowed ? 'block' : 'none';\n",
              "\n",
              "      async function convertToInteractive(key) {\n",
              "        const element = document.querySelector('#df-f39bfffb-19f7-43dd-b0c8-e9cf43200d7a');\n",
              "        const dataTable =\n",
              "          await google.colab.kernel.invokeFunction('convertToInteractive',\n",
              "                                                    [key], {});\n",
              "        if (!dataTable) return;\n",
              "\n",
              "        const docLinkHtml = 'Like what you see? Visit the ' +\n",
              "          '<a target=\"_blank\" href=https://colab.research.google.com/notebooks/data_table.ipynb>data table notebook</a>'\n",
              "          + ' to learn more about interactive tables.';\n",
              "        element.innerHTML = '';\n",
              "        dataTable['output_type'] = 'display_data';\n",
              "        await google.colab.output.renderOutput(dataTable, element);\n",
              "        const docLink = document.createElement('div');\n",
              "        docLink.innerHTML = docLinkHtml;\n",
              "        element.appendChild(docLink);\n",
              "      }\n",
              "    </script>\n",
              "  </div>\n",
              "\n",
              "\n",
              "<div id=\"df-0a03179d-aa07-43d3-868f-5146e6e96c34\">\n",
              "  <button class=\"colab-df-quickchart\" onclick=\"quickchart('df-0a03179d-aa07-43d3-868f-5146e6e96c34')\"\n",
              "            title=\"Suggest charts\"\n",
              "            style=\"display:none;\">\n",
              "\n",
              "<svg xmlns=\"http://www.w3.org/2000/svg\" height=\"24px\"viewBox=\"0 0 24 24\"\n",
              "     width=\"24px\">\n",
              "    <g>\n",
              "        <path d=\"M19 3H5c-1.1 0-2 .9-2 2v14c0 1.1.9 2 2 2h14c1.1 0 2-.9 2-2V5c0-1.1-.9-2-2-2zM9 17H7v-7h2v7zm4 0h-2V7h2v10zm4 0h-2v-4h2v4z\"/>\n",
              "    </g>\n",
              "</svg>\n",
              "  </button>\n",
              "\n",
              "<style>\n",
              "  .colab-df-quickchart {\n",
              "      --bg-color: #E8F0FE;\n",
              "      --fill-color: #1967D2;\n",
              "      --hover-bg-color: #E2EBFA;\n",
              "      --hover-fill-color: #174EA6;\n",
              "      --disabled-fill-color: #AAA;\n",
              "      --disabled-bg-color: #DDD;\n",
              "  }\n",
              "\n",
              "  [theme=dark] .colab-df-quickchart {\n",
              "      --bg-color: #3B4455;\n",
              "      --fill-color: #D2E3FC;\n",
              "      --hover-bg-color: #434B5C;\n",
              "      --hover-fill-color: #FFFFFF;\n",
              "      --disabled-bg-color: #3B4455;\n",
              "      --disabled-fill-color: #666;\n",
              "  }\n",
              "\n",
              "  .colab-df-quickchart {\n",
              "    background-color: var(--bg-color);\n",
              "    border: none;\n",
              "    border-radius: 50%;\n",
              "    cursor: pointer;\n",
              "    display: none;\n",
              "    fill: var(--fill-color);\n",
              "    height: 32px;\n",
              "    padding: 0;\n",
              "    width: 32px;\n",
              "  }\n",
              "\n",
              "  .colab-df-quickchart:hover {\n",
              "    background-color: var(--hover-bg-color);\n",
              "    box-shadow: 0 1px 2px rgba(60, 64, 67, 0.3), 0 1px 3px 1px rgba(60, 64, 67, 0.15);\n",
              "    fill: var(--button-hover-fill-color);\n",
              "  }\n",
              "\n",
              "  .colab-df-quickchart-complete:disabled,\n",
              "  .colab-df-quickchart-complete:disabled:hover {\n",
              "    background-color: var(--disabled-bg-color);\n",
              "    fill: var(--disabled-fill-color);\n",
              "    box-shadow: none;\n",
              "  }\n",
              "\n",
              "  .colab-df-spinner {\n",
              "    border: 2px solid var(--fill-color);\n",
              "    border-color: transparent;\n",
              "    border-bottom-color: var(--fill-color);\n",
              "    animation:\n",
              "      spin 1s steps(1) infinite;\n",
              "  }\n",
              "\n",
              "  @keyframes spin {\n",
              "    0% {\n",
              "      border-color: transparent;\n",
              "      border-bottom-color: var(--fill-color);\n",
              "      border-left-color: var(--fill-color);\n",
              "    }\n",
              "    20% {\n",
              "      border-color: transparent;\n",
              "      border-left-color: var(--fill-color);\n",
              "      border-top-color: var(--fill-color);\n",
              "    }\n",
              "    30% {\n",
              "      border-color: transparent;\n",
              "      border-left-color: var(--fill-color);\n",
              "      border-top-color: var(--fill-color);\n",
              "      border-right-color: var(--fill-color);\n",
              "    }\n",
              "    40% {\n",
              "      border-color: transparent;\n",
              "      border-right-color: var(--fill-color);\n",
              "      border-top-color: var(--fill-color);\n",
              "    }\n",
              "    60% {\n",
              "      border-color: transparent;\n",
              "      border-right-color: var(--fill-color);\n",
              "    }\n",
              "    80% {\n",
              "      border-color: transparent;\n",
              "      border-right-color: var(--fill-color);\n",
              "      border-bottom-color: var(--fill-color);\n",
              "    }\n",
              "    90% {\n",
              "      border-color: transparent;\n",
              "      border-bottom-color: var(--fill-color);\n",
              "    }\n",
              "  }\n",
              "</style>\n",
              "\n",
              "  <script>\n",
              "    async function quickchart(key) {\n",
              "      const quickchartButtonEl =\n",
              "        document.querySelector('#' + key + ' button');\n",
              "      quickchartButtonEl.disabled = true;  // To prevent multiple clicks.\n",
              "      quickchartButtonEl.classList.add('colab-df-spinner');\n",
              "      try {\n",
              "        const charts = await google.colab.kernel.invokeFunction(\n",
              "            'suggestCharts', [key], {});\n",
              "      } catch (error) {\n",
              "        console.error('Error during call to suggestCharts:', error);\n",
              "      }\n",
              "      quickchartButtonEl.classList.remove('colab-df-spinner');\n",
              "      quickchartButtonEl.classList.add('colab-df-quickchart-complete');\n",
              "    }\n",
              "    (() => {\n",
              "      let quickchartButtonEl =\n",
              "        document.querySelector('#df-0a03179d-aa07-43d3-868f-5146e6e96c34 button');\n",
              "      quickchartButtonEl.style.display =\n",
              "        google.colab.kernel.accessAllowed ? 'block' : 'none';\n",
              "    })();\n",
              "  </script>\n",
              "</div>\n",
              "    </div>\n",
              "  </div>\n"
            ]
          },
          "metadata": {},
          "execution_count": 6
        }
      ]
    },
    {
      "cell_type": "markdown",
      "source": [
        "Encoding the values takes all categoric and boolean values and gives them a numeric representation, ex: white is represented by 1 and red is represented by 0."
      ],
      "metadata": {
        "id": "o4LfDUGPrRy2"
      }
    },
    {
      "cell_type": "markdown",
      "source": [
        "## **5. Create contingency tables (cross tabulations) for: a. Type vs. alcohol content b. Type vs. Sugar content**"
      ],
      "metadata": {
        "id": "cescORXdre8S"
      }
    },
    {
      "cell_type": "code",
      "source": [
        "#Creates a contingency table between type and alcohol content\n",
        "p_crosstab = pd.crosstab(encoded_alcoholDF.Type, encoded_alcoholDF.Alcohol_flag)\n",
        "\n",
        "print(p_crosstab)"
      ],
      "metadata": {
        "colab": {
          "base_uri": "https://localhost:8080/"
        },
        "id": "mhEcA8UPrela",
        "outputId": "d52396ec-a18f-4fb8-c3ce-737712e72816"
      },
      "execution_count": null,
      "outputs": [
        {
          "output_type": "stream",
          "name": "stdout",
          "text": [
            "Alcohol_flag     0     1\n",
            "Type                    \n",
            "0              485   600\n",
            "1             1176  1084\n"
          ]
        }
      ]
    },
    {
      "cell_type": "code",
      "source": [
        "#Creates a contingency table between type and sugar content\n",
        "p2_crosstab = pd.crosstab(encoded_alcoholDF.Type, encoded_alcoholDF.Sugar_flag)\n",
        "\n",
        "print(p2_crosstab)"
      ],
      "metadata": {
        "colab": {
          "base_uri": "https://localhost:8080/"
        },
        "id": "EbworjsLsTq2",
        "outputId": "8b7b0922-f1d4-4975-9fc7-5860334117fa"
      },
      "execution_count": null,
      "outputs": [
        {
          "output_type": "stream",
          "name": "stdout",
          "text": [
            "Sugar_flag     0    1\n",
            "Type                 \n",
            "0            237  848\n",
            "1           1382  878\n"
          ]
        }
      ]
    },
    {
      "cell_type": "markdown",
      "source": [
        "Conclussions made: White tends to have a higher Alcohol flag as well as a higher sugar flag. Red tends to have a lower Alcohol flag and lower sugar flag. White has over double the representation of red in the data set."
      ],
      "metadata": {
        "id": "x6PDvcvdsjhW"
      }
    },
    {
      "cell_type": "markdown",
      "source": [
        "## **6. Plot the two cross tabulations obtained in Step 5.**"
      ],
      "metadata": {
        "id": "7OUPo-VwtBZ6"
      }
    },
    {
      "cell_type": "code",
      "source": [
        "barplot = p_crosstab.plot.bar(rot=90)"
      ],
      "metadata": {
        "colab": {
          "base_uri": "https://localhost:8080/",
          "height": 444
        },
        "id": "HgB8zHi_tJpz",
        "outputId": "78ffdbee-2b3f-45b8-ec7b-9ac134aa5b57"
      },
      "execution_count": null,
      "outputs": [
        {
          "output_type": "display_data",
          "data": {
            "text/plain": [
              "<Figure size 640x480 with 1 Axes>"
            ],
            "image/png": "[encoded data removed]"
          },
          "metadata": {}
        }
      ]
    },
    {
      "cell_type": "code",
      "source": [
        "barplot = p2_crosstab.plot.bar(rot=90)"
      ],
      "metadata": {
        "colab": {
          "base_uri": "https://localhost:8080/",
          "height": 444
        },
        "id": "RQ401nqqtPTU",
        "outputId": "d0bb4b4c-4d07-4343-d2b6-c7f18fdb7392"
      },
      "execution_count": null,
      "outputs": [
        {
          "output_type": "display_data",
          "data": {
            "text/plain": [
              "<Figure size 640x480 with 1 Axes>"
            ],
            "image/png": "[encoded data removed]"
          },
          "metadata": {}
        }
      ]
    },
    {
      "cell_type": "markdown",
      "source": [
        "After plotting the data we are able to get a better visual of the conclussion previously made. The graph provides an easier way of understanding and allows us to confirm our conclussion."
      ],
      "metadata": {
        "id": "kj59E7I1tUX1"
      }
    },
    {
      "cell_type": "markdown",
      "source": [
        "## **Use the tables from the previous step to calculate: a. The prior probability of Type = Red and Type = White. b. The probability of high and low alcohol content. c. The probability of high and low sugar content. d. The conditional probabilities p(Alcohol_flag = High ∣ Type = Red) and p(Alcohol_flag = Low ∣ Type = Red). e. The conditional probabilities p(Sugar_flag = High ∣ Type = Red) and p(Sugar_flag = Low ∣ Type = Red)**"
      ],
      "metadata": {
        "id": "kPpjqOMttuHI"
      }
    },
    {
      "cell_type": "code",
      "source": [
        "#Takes the total number red  and divides by total number\n",
        "proportionRed=p_crosstab.loc[0].sum()/p_crosstab.sum().sum()\n",
        "\n",
        "print (\"The probability of red is: \" , proportionRed)\n",
        "\n",
        "#Takes the total number white  and divides by total number\n",
        "proportionWhite=p_crosstab.loc[1].sum()/p_crosstab.sum().sum()\n",
        "\n",
        "print (\"The probability of white is: \" , proportionWhite)"
      ],
      "metadata": {
        "colab": {
          "base_uri": "https://localhost:8080/"
        },
        "id": "SaX9-eGStth4",
        "outputId": "d28962de-3f11-43f5-f975-7dab5076d02a"
      },
      "execution_count": null,
      "outputs": [
        {
          "output_type": "stream",
          "name": "stdout",
          "text": [
            "The probability of red is:  0.3243647234678625\n",
            "The probability of white is:  0.6756352765321375\n"
          ]
        }
      ]
    },
    {
      "cell_type": "markdown",
      "source": [
        "There is over double the chance that the type is white"
      ],
      "metadata": {
        "id": "n-Gd-Hyjyp0B"
      }
    },
    {
      "cell_type": "code",
      "source": [
        "#Takes the total number high alcohol and divides by total number\n",
        "proportionHighAlcohol=p_crosstab.sum().loc[0]/p_crosstab.sum().sum()\n",
        "\n",
        "print (\"The probability of high alcohol content is: \" , proportionHighAlcohol)\n",
        "\n",
        "#Takes the total number low alcohol  and divides by total number\n",
        "proportionLowAlcohol=p_crosstab.sum().loc[1]/p_crosstab.sum().sum()\n",
        "\n",
        "print (\"The probability of low alcohol content is: \" , proportionLowAlcohol)"
      ],
      "metadata": {
        "colab": {
          "base_uri": "https://localhost:8080/"
        },
        "id": "bD7g-wgqyvPx",
        "outputId": "1b635f16-6d8c-49e9-f07d-52125da67fd5"
      },
      "execution_count": null,
      "outputs": [
        {
          "output_type": "stream",
          "name": "stdout",
          "text": [
            "The probability of high alcohol content is:  0.49656203288490286\n",
            "The probability of low alcohol content is:  0.5034379671150971\n"
          ]
        }
      ]
    },
    {
      "cell_type": "markdown",
      "source": [
        "It is almost a 50/50 split on whether the alcohol content is high or low"
      ],
      "metadata": {
        "id": "wB3pJVqHzPFs"
      }
    },
    {
      "cell_type": "code",
      "source": [
        "#Takes the total number high sugar  and divides by total number\n",
        "proportionHighSugar=p2_crosstab.sum().loc[0]/p2_crosstab.sum().sum()\n",
        "\n",
        "print (\"The probability of high sugar content is: \" , proportionHighSugar)\n",
        "\n",
        "proportionLowSugar=p2_crosstab.sum().loc[1]/p2_crosstab.sum().sum()\n",
        "#Takes the total number low sugar  and divides by total number\n",
        "print (\"The probability of low sugar content is: \" , proportionLowSugar)"
      ],
      "metadata": {
        "colab": {
          "base_uri": "https://localhost:8080/"
        },
        "id": "jmbPhjbdzUJr",
        "outputId": "49e4c5e4-fa25-4839-b6f0-835fcefc93d0"
      },
      "execution_count": null,
      "outputs": [
        {
          "output_type": "stream",
          "name": "stdout",
          "text": [
            "The probability of high sugar content is:  0.48400597907324366\n",
            "The probability of low sugar content is:  0.5159940209267564\n"
          ]
        }
      ]
    },
    {
      "cell_type": "markdown",
      "source": [
        "Though a bigger difference in probability from alcohol content sugar high or low is near 50/50 as well"
      ],
      "metadata": {
        "id": "voipUosi0c_G"
      }
    },
    {
      "cell_type": "code",
      "source": [
        "#Takes the total number high alcohol  and divides by total number red\n",
        "proportionHighAlcoholRed=p_crosstab.loc[0].loc[0]/p_crosstab.loc[0].sum()\n",
        "print (\"The probability of red having high alcohol content is: \" , proportionHighAlcoholRed)\n",
        "#Takes the total number low alcohol  and divides by total number red\n",
        "proportionLowAlcoholRed=p_crosstab.loc[0].loc[1]/p_crosstab.loc[0].sum()\n",
        "print (\"The probability of red having low alcohol content is: \" , proportionLowAlcoholRed)"
      ],
      "metadata": {
        "colab": {
          "base_uri": "https://localhost:8080/"
        },
        "id": "5IbPEWL405hL",
        "outputId": "7b61829b-2323-4b83-8ced-f875b2b81a1b"
      },
      "execution_count": null,
      "outputs": [
        {
          "output_type": "stream",
          "name": "stdout",
          "text": [
            "The probability of red having high alcohol content is:  0.4470046082949309\n",
            "The probability of red having low alcohol content is:  0.5529953917050692\n"
          ]
        }
      ]
    },
    {
      "cell_type": "markdown",
      "source": [
        "Red is around 10-11% more likely to have low alcohol content\n",
        "\n"
      ],
      "metadata": {
        "id": "EAQPD2aM620a"
      }
    },
    {
      "cell_type": "code",
      "source": [
        "#Takes the total number high sugar  and divides by total number red\n",
        "proportionHighSugarRed=p2_crosstab.loc[0].loc[0]/p2_crosstab.loc[0].sum()\n",
        "print (\"The probability of red having high alcohol content is: \" , proportionHighSugarRed)\n",
        "#Takes the total number low sugar  and divides by total number red\n",
        "proportionLowSugarRed=p2_crosstab.loc[0].loc[1]/p2_crosstab.loc[0].sum()\n",
        "print (\"The probability of red having low sugar content is: \" , proportionLowSugarRed)"
      ],
      "metadata": {
        "colab": {
          "base_uri": "https://localhost:8080/"
        },
        "id": "AGUrprv-6fx_",
        "outputId": "ccdb46ef-b09b-4bb9-cb06-ee045e0a39bb"
      },
      "execution_count": null,
      "outputs": [
        {
          "output_type": "stream",
          "name": "stdout",
          "text": [
            "The probability of red having high alcohol content is:  0.2184331797235023\n",
            "The probability of red having low sugar content is:  0.7815668202764977\n"
          ]
        }
      ]
    },
    {
      "cell_type": "markdown",
      "source": [
        "Red has a high probability of low sugar content and is around 66-67% more likely"
      ],
      "metadata": {
        "id": "hUvSgmia7DA9"
      }
    },
    {
      "cell_type": "markdown",
      "source": [
        "## **8. Create appropriate NB classifiers and record their accuracy on various training/test ratios, e.g., 80-20, 75-25, 70-30, 60-40, 50-50. Be sure to shuffle and stratify the data sets. & 9.Plot your findings.**"
      ],
      "metadata": {
        "id": "SkaWp-8w7PgC"
      }
    },
    {
      "cell_type": "code",
      "source": [
        "# Generating various Naive Bayes models\n",
        "from sklearn.naive_bayes import GaussianNB, MultinomialNB, CategoricalNB, BernoulliNB\n",
        "from sklearn.model_selection import train_test_split\n",
        "\n",
        "NBmodel = GaussianNB()\n",
        "\n",
        "# Prepare input and output\n",
        "X = encoded_alcoholDF.iloc[:,1:3]\n",
        "y = encoded_alcoholDF.iloc[:,0]\n",
        "\n",
        "# In order to have the same proportion of 0 and 1 classes in a dataset to train, use 'stratify'\n",
        "X_train, X_test, y_train, y_test = \\\n",
        "    train_test_split(X, y, random_state=52, shuffle=True, test_size=.1, stratify=y)\n",
        "\n",
        "# Display the sets\n",
        "print(X_train)\n",
        "print(X_test)\n"
      ],
      "metadata": {
        "colab": {
          "base_uri": "https://localhost:8080/"
        },
        "id": "l4_LZcwf8Dx2",
        "outputId": "71834b23-2174-4a67-8a98-2b30288b28a8"
      },
      "execution_count": null,
      "outputs": [
        {
          "output_type": "stream",
          "name": "stdout",
          "text": [
            "      Alcohol_flag  Sugar_flag\n",
            "2297             1           0\n",
            "858              1           0\n",
            "3077             0           1\n",
            "3069             0           0\n",
            "2638             0           0\n",
            "...            ...         ...\n",
            "1088             1           1\n",
            "587              1           0\n",
            "1278             1           0\n",
            "1268             1           0\n",
            "1072             1           1\n",
            "\n",
            "[3010 rows x 2 columns]\n",
            "      Alcohol_flag  Sugar_flag\n",
            "2854             0           1\n",
            "1593             1           0\n",
            "2173             1           0\n",
            "1071             1           1\n",
            "1042             1           1\n",
            "...            ...         ...\n",
            "2200             1           0\n",
            "1784             1           0\n",
            "2500             0           0\n",
            "3020             0           0\n",
            "483              0           1\n",
            "\n",
            "[335 rows x 2 columns]\n"
          ]
        }
      ]
    },
    {
      "cell_type": "markdown",
      "source": [],
      "metadata": {
        "id": "FLvL4X2d_awr"
      }
    },
    {
      "cell_type": "code",
      "source": [
        "import matplotlib.pyplot as plt\n",
        "\n",
        "# Train the model\n",
        "NBmodel.fit(X_train, y_train)\n",
        "\n",
        "# Calculate model accuracy\n",
        "labels = [\"Training\", \"Test\"]\n",
        "scores = [NBmodel.score(X_train, y_train), NBmodel.score(X_test, y_test)]\n",
        "\n",
        "\n",
        "# Plot the model\n",
        "fig = plt.figure()\n",
        "ax = fig.add_axes([0,0,1,1])\n",
        "ax.set_title('Model Classification Accuary on Training vs. Test Data')\n",
        "ax.bar(labels, scores, color=\"orange\")\n",
        "ax.set_ylim(0, 1)\n",
        "plt.show()\n"
      ],
      "metadata": {
        "colab": {
          "base_uri": "https://localhost:8080/",
          "height": 563
        },
        "id": "xXl0IY1f-nfU",
        "outputId": "c9e359bc-62e8-43b0-a95a-33d0116b144f"
      },
      "execution_count": null,
      "outputs": [
        {
          "output_type": "display_data",
          "data": {
            "text/plain": [
              "<Figure size 640x480 with 1 Axes>"
            ],
            "image/png": "[encoded data removed]"
          },
          "metadata": {}
        }
      ]
    },
    {
      "cell_type": "code",
      "source": [
        "# Prepare input and output for learning\n",
        "X = encoded_alcoholDF.iloc[:,1:3]\n",
        "y = encoded_alcoholDF.iloc[:,0]\n",
        "\n",
        "# In order to have the same proportion of 0 and 1 classes in a dataset to train, use 'stratify'\n",
        "X_train, X_test, y_train, y_test = \\\n",
        "    train_test_split(X, y, random_state=52, shuffle=True, test_size=.2, stratify=y)\n",
        "\n",
        "# Display the sets\n",
        "print(X_train)\n",
        "print(X_test)\n"
      ],
      "metadata": {
        "colab": {
          "base_uri": "https://localhost:8080/"
        },
        "id": "Q1jidK6XETaZ",
        "outputId": "5f02e1f4-f927-4689-f9b0-c60de32aa84e"
      },
      "execution_count": null,
      "outputs": [
        {
          "output_type": "stream",
          "name": "stdout",
          "text": [
            "      Alcohol_flag  Sugar_flag\n",
            "1446             0           0\n",
            "980              1           0\n",
            "2563             0           0\n",
            "3009             0           1\n",
            "1340             0           1\n",
            "...            ...         ...\n",
            "1088             1           1\n",
            "2315             1           1\n",
            "1278             1           0\n",
            "1268             1           0\n",
            "1072             1           1\n",
            "\n",
            "[2676 rows x 2 columns]\n",
            "      Alcohol_flag  Sugar_flag\n",
            "1071             1           1\n",
            "509              0           0\n",
            "2261             1           1\n",
            "253              1           1\n",
            "3033             0           0\n",
            "...            ...         ...\n",
            "3157             0           0\n",
            "34               0           1\n",
            "3060             0           1\n",
            "1811             1           0\n",
            "593              1           0\n",
            "\n",
            "[669 rows x 2 columns]\n"
          ]
        }
      ]
    },
    {
      "cell_type": "code",
      "source": [
        "# Train the model\n",
        "NBmodel.fit(X_train, y_train)\n",
        "\n",
        "# Calculate model accuracy on both training and test data\n",
        "labels = [\"Training\", \"Test\"]\n",
        "scores = [NBmodel.score(X_train, y_train), NBmodel.score(X_test, y_test)]\n",
        "\n",
        "\n",
        "# Plot the accuracy claues\n",
        "fig = plt.figure()\n",
        "ax = fig.add_axes([0,0,1,1])\n",
        "ax.set_title('Model Classification Accuary on Training vs. Test Data')\n",
        "ax.bar(labels, scores, color=\"orange\")\n",
        "ax.set_ylim(0, 1)\n",
        "plt.show()\n"
      ],
      "metadata": {
        "colab": {
          "base_uri": "https://localhost:8080/",
          "height": 563
        },
        "id": "GMOM1fwHEWWm",
        "outputId": "fd377c05-a3a4-4e04-a59f-be3925a49fb8"
      },
      "execution_count": null,
      "outputs": [
        {
          "output_type": "display_data",
          "data": {
            "text/plain": [
              "<Figure size 640x480 with 1 Axes>"
            ],
            "image/png": "[encoded data removed]"
          },
          "metadata": {}
        }
      ]
    },
    {
      "cell_type": "code",
      "source": [
        "# Prepare input and output for learning\n",
        "X = encoded_alcoholDF.iloc[:,1:3]\n",
        "y = encoded_alcoholDF.iloc[:,0]\n",
        "\n",
        "# In order to have the same proportion of 0 and 1 classes in a dataset to train, use 'stratify'\n",
        "X_train, X_test, y_train, y_test = \\\n",
        "    train_test_split(X, y, random_state=52, shuffle=True, test_size=.25, stratify=y)\n",
        "\n",
        "# Display the sets\n",
        "print(X_train)\n",
        "print(X_test)"
      ],
      "metadata": {
        "colab": {
          "base_uri": "https://localhost:8080/"
        },
        "id": "TJXaJ-yHEkxL",
        "outputId": "eca9c383-54f6-42f7-d375-46cc16a700f0"
      },
      "execution_count": null,
      "outputs": [
        {
          "output_type": "stream",
          "name": "stdout",
          "text": [
            "      Alcohol_flag  Sugar_flag\n",
            "2270             1           0\n",
            "472              1           1\n",
            "1654             1           0\n",
            "2142             1           1\n",
            "2115             1           0\n",
            "...            ...         ...\n",
            "1088             1           1\n",
            "1912             1           0\n",
            "1278             1           0\n",
            "1268             1           0\n",
            "1072             1           1\n",
            "\n",
            "[2508 rows x 2 columns]\n",
            "      Alcohol_flag  Sugar_flag\n",
            "2280             1           0\n",
            "2265             1           1\n",
            "2428             1           0\n",
            "1495             0           1\n",
            "3085             0           1\n",
            "...            ...         ...\n",
            "543              0           1\n",
            "458              1           1\n",
            "2668             0           0\n",
            "773              1           0\n",
            "888              1           0\n",
            "\n",
            "[837 rows x 2 columns]\n"
          ]
        }
      ]
    },
    {
      "cell_type": "code",
      "source": [
        "# Train the model\n",
        "NBmodel.fit(X_train, y_train)\n",
        "\n",
        "# Calculate model accuracy on both training and test data\n",
        "labels = [\"Training\", \"Test\"]\n",
        "scores = [NBmodel.score(X_train, y_train), NBmodel.score(X_test, y_test)]\n",
        "\n",
        "\n",
        "# Plot the accuracy claues\n",
        "fig = plt.figure()\n",
        "ax = fig.add_axes([0,0,1,1])\n",
        "ax.set_title('Model Classification Accuary on Training vs. Test Data')\n",
        "ax.bar(labels, scores, color=\"orange\")\n",
        "ax.set_ylim(0, 1)\n",
        "plt.show()\n"
      ],
      "metadata": {
        "colab": {
          "base_uri": "https://localhost:8080/",
          "height": 563
        },
        "id": "UZ44Hm0_EqXR",
        "outputId": "abc04a6f-177f-498e-a4c8-90673d3a98ba"
      },
      "execution_count": null,
      "outputs": [
        {
          "output_type": "display_data",
          "data": {
            "text/plain": [
              "<Figure size 640x480 with 1 Axes>"
            ],
            "image/png": "[encoded data removed]"
          },
          "metadata": {}
        }
      ]
    },
    {
      "cell_type": "code",
      "source": [
        "# Prepare input and output for learning\n",
        "X = encoded_alcoholDF.iloc[:,1:3]\n",
        "y = encoded_alcoholDF.iloc[:,0]\n",
        "\n",
        "# In order to have the same proportion of 0 and 1 classes in a dataset to train, use 'stratify'\n",
        "X_train, X_test, y_train, y_test = \\\n",
        "    train_test_split(X, y, random_state=52, shuffle=True, test_size=.40, stratify=y)\n",
        "\n",
        "# Display the sets\n",
        "print(X_train)\n",
        "print(X_test)"
      ],
      "metadata": {
        "colab": {
          "base_uri": "https://localhost:8080/"
        },
        "id": "w-R1N4QlE3Rt",
        "outputId": "6d90c864-5479-4a68-b714-72b36b77be03"
      },
      "execution_count": null,
      "outputs": [
        {
          "output_type": "stream",
          "name": "stdout",
          "text": [
            "      Alcohol_flag  Sugar_flag\n",
            "2748             0           0\n",
            "1096             1           1\n",
            "2853             0           1\n",
            "1552             0           1\n",
            "1150             1           1\n",
            "...            ...         ...\n",
            "1667             1           0\n",
            "3295             0           0\n",
            "2812             0           0\n",
            "2696             0           1\n",
            "1072             1           1\n",
            "\n",
            "[2007 rows x 2 columns]\n",
            "      Alcohol_flag  Sugar_flag\n",
            "296              0           1\n",
            "1881             1           0\n",
            "1916             1           0\n",
            "2578             0           0\n",
            "581              0           0\n",
            "...            ...         ...\n",
            "1845             1           1\n",
            "1233             1           1\n",
            "2302             1           0\n",
            "1456             0           1\n",
            "2622             0           1\n",
            "\n",
            "[1338 rows x 2 columns]\n"
          ]
        }
      ]
    },
    {
      "cell_type": "code",
      "source": [
        "# Train the model\n",
        "NBmodel.fit(X_train, y_train)\n",
        "\n",
        "# Calculate model accuracy on both training and test data\n",
        "labels = [\"Training\", \"Test\"]\n",
        "scores = [NBmodel.score(X_train, y_train), NBmodel.score(X_test, y_test)]\n",
        "\n",
        "\n",
        "# Plot the accuracy claues\n",
        "fig = plt.figure()\n",
        "ax = fig.add_axes([0,0,1,1])\n",
        "ax.set_title('Model Classification Accuary on Training vs. Test Data')\n",
        "ax.bar(labels, scores, color=\"orange\")\n",
        "ax.set_ylim(0, 1)\n",
        "plt.show()\n"
      ],
      "metadata": {
        "colab": {
          "base_uri": "https://localhost:8080/",
          "height": 563
        },
        "id": "5miYL5J6F1uZ",
        "outputId": "c74a5dc2-1d1f-46c8-c400-a5c7772ee096"
      },
      "execution_count": null,
      "outputs": [
        {
          "output_type": "display_data",
          "data": {
            "text/plain": [
              "<Figure size 640x480 with 1 Axes>"
            ],
            "image/png": "[encoded data removed]"
          },
          "metadata": {}
        }
      ]
    },
    {
      "cell_type": "code",
      "source": [
        "# Prepare input and output for learning\n",
        "X = encoded_alcoholDF.iloc[:,1:3]\n",
        "y = encoded_alcoholDF.iloc[:,0]\n",
        "\n",
        "# In order to have the same proportion of 0 and 1 classes in a dataset to train, use 'stratify'\n",
        "X_train, X_test, y_train, y_test = \\\n",
        "    train_test_split(X, y, random_state=52, shuffle=True, test_size=.50, stratify=y)\n",
        "\n",
        "# Display the sets\n",
        "print(X_train)\n",
        "print(X_test)"
      ],
      "metadata": {
        "colab": {
          "base_uri": "https://localhost:8080/"
        },
        "id": "xSgFezm_F5f9",
        "outputId": "26f97b87-fada-4e7e-9b32-dbdc83f2342a"
      },
      "execution_count": null,
      "outputs": [
        {
          "output_type": "stream",
          "name": "stdout",
          "text": [
            "      Alcohol_flag  Sugar_flag\n",
            "829              0           1\n",
            "1096             1           1\n",
            "3305             0           0\n",
            "507              1           0\n",
            "799              0           1\n",
            "...            ...         ...\n",
            "526              0           1\n",
            "2522             0           0\n",
            "1763             1           0\n",
            "3147             0           0\n",
            "1072             1           1\n",
            "\n",
            "[1672 rows x 2 columns]\n",
            "      Alcohol_flag  Sugar_flag\n",
            "1592             1           0\n",
            "498              0           1\n",
            "2207             1           0\n",
            "2989             0           0\n",
            "1095             1           1\n",
            "...            ...         ...\n",
            "1461             0           0\n",
            "800              0           1\n",
            "336              0           0\n",
            "2028             1           1\n",
            "224              1           0\n",
            "\n",
            "[1673 rows x 2 columns]\n"
          ]
        }
      ]
    },
    {
      "cell_type": "code",
      "source": [
        "# Train the model\n",
        "NBmodel.fit(X_train, y_train)\n",
        "\n",
        "# Calculate model accuracy on both training and test data\n",
        "labels = [\"Training\", \"Test\"]\n",
        "scores = [NBmodel.score(X_train, y_train), NBmodel.score(X_test, y_test)]\n",
        "\n",
        "\n",
        "# Plot the accuracy claues\n",
        "fig = plt.figure()\n",
        "ax = fig.add_axes([0,0,1,1])\n",
        "ax.set_title('Model Classification Accuary on Training vs. Test Data')\n",
        "ax.bar(labels, scores, color=\"orange\")\n",
        "ax.set_ylim(0, 1)\n",
        "plt.show()"
      ],
      "metadata": {
        "colab": {
          "base_uri": "https://localhost:8080/",
          "height": 563
        },
        "id": "g-lakDDrF_Q2",
        "outputId": "11992f22-e8cb-4ba5-a4d5-0ee15adca27c"
      },
      "execution_count": null,
      "outputs": [
        {
          "output_type": "display_data",
          "data": {
            "text/plain": [
              "<Figure size 640x480 with 1 Axes>"
            ],
            "image/png": "[encoded data removed]"
          },
          "metadata": {}
        }
      ]
    },
    {
      "cell_type": "markdown",
      "source": [
        "The accuracy for both training sets when switching around the training and testing percentages remained around .7 for each test"
      ],
      "metadata": {
        "id": "Ps5VDYlPGV7G"
      }
    },
    {
      "cell_type": "markdown",
      "source": [
        "### **10. Summarize:**"
      ],
      "metadata": {
        "id": "LMNhJGbeGAdl"
      }
    },
    {
      "cell_type": "markdown",
      "source": [
        "\n",
        "\n",
        "*   The accuracy for both training sets when switching around the training and testing percentages remained around .7 for each test\n",
        "\n",
        "*   Red wine has a high probability of low sugar content and is around 66-67% more likely\n",
        "\n",
        "*   Red wine is around 10-11% more likely to have low alcohol content\n",
        "\n",
        "*   It is almost a 50/50 split on whether the alcohol content is high or low\n",
        "\n",
        "*   Though a bigger difference in probability from alcohol content sugar high or low is near 50/50 as well\n",
        "*   There is over double the chance that the wine type is white\n",
        "\n",
        "\n",
        "*   White tends to have a higher Alcohol flag as well as a higher sugar flag.\n",
        "\n",
        "*   Red tends to have a lower Alcohol flag and lower sugar flag.\n",
        "\n",
        "\n",
        "*   White has over double the representation of red in the data set.\n",
        "\n",
        "\n",
        "*  Encoding the values takes all categoric and boolean values and gives them a numeric representation, ex: white is represented by 1 and red is represented by 0.\n",
        "\n",
        "*  Using .isna() we are able to conclude that there are no missing values within the data set therefore causing no necessary imputations\n",
        "\n",
        "\n",
        "\n",
        "\n"
      ],
      "metadata": {
        "id": "zf6NG7i3GPzD"
      }
    }
  ]
}